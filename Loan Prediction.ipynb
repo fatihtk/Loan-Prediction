{
 "cells": [
  {
   "metadata": {
    "collapsed": true
   },
   "cell_type": "markdown",
   "source": [
    "# Loan Prediction"
   ]
  },
  {
   "metadata": {},
   "cell_type": "markdown",
   "source": [
    "## Introduction"
   ]
  },
  {
   "metadata": {},
   "cell_type": "markdown",
   "source": [
    "### Process Steps\n",
    "> EDA (Exploratory Data Analysis)\n",
    "\n",
    "> Handling Missing Values\n",
    "\n",
    "> Handling Categorical and Numerical Data\n",
    "\n",
    "> Scaling\n",
    "\n",
    "> PCA (Principle Component Analyze)\n",
    "\n",
    "> Logistic Regression Model\n",
    "\n",
    "> Random Forest Model\n",
    "\n",
    "> Prediction on Test Data"
   ]
  },
  {
   "metadata": {},
   "cell_type": "markdown",
   "source": [
    "## Importing Libraries"
   ]
  },
  {
   "metadata": {},
   "cell_type": "code",
   "source": [
    "import numpy as np # linear algebra\n",
    "import pandas as pd # data processing, CSV file I/O (e.g. pd.read_csv)\n",
    "import matplotlib.pyplot as plt\n",
    "import seaborn as sns\n",
    "from plotly.offline import init_notebook_mode, download_plotlyjs, iplot\n",
    "import warnings\n",
    "warnings.filterwarnings('ignore')\n",
    "\n",
    "# Let us Import the Important Libraries  to train our Model for Machine Learning \n",
    "from sklearn.ensemble import RandomForestClassifier\n",
    "from sklearn.preprocessing import LabelEncoder, OneHotEncoder # To deal with Categorical Data in Target Vector.\n",
    "from sklearn.model_selection import train_test_split  # To Split the dataset into training data and testing data.\n",
    "from sklearn.model_selection import cross_val_score   # To check the accuracy of the model.\n",
    "from sklearn.preprocessing import Imputer   # To deal with the missing values\n",
    "from sklearn.preprocessing import StandardScaler   # To appy scaling on the dataset.\n",
    "from sklearn.linear_model import LinearRegression, LogisticRegression"
   ],
   "execution_count": 1,
   "outputs": []
  },
  {
   "metadata": {},
   "cell_type": "markdown",
   "source": [
    "***Loading train data:***"
   ]
  },
  {
   "metadata": {},
   "cell_type": "code",
   "source": [
    "import types\n",
    "import pandas as pd\n",
    "from botocore.client import Config\n",
    "import ibm_boto3\n",
    "\n",
    "def __iter__(self): return 0\n",
    "\n",
    "# @hidden_cell\n",
    "# The following code accesses a file in your IBM Cloud Object Storage. It includes your credentials.\n",
    "# You might want to remove those credentials before you share the notebook.\n",
    "client_d796a7821cb14d9da275345dd74c86d6 = ibm_boto3.client(service_name='s3',\n",
    "    ibm_api_key_id='your_api_key',\n",
    "    ibm_auth_endpoint=\"https://iam.cloud.ibm.com/oidc/token\",\n",
    "    config=Config(signature_version='oauth'),\n",
    "    endpoint_url='https://s3.eu-geo.objectstorage.service.networklayer.com')\n",
    "\n",
    "body = client_d796a7821cb14d9da275345dd74c86d6.get_object(Bucket='ibmcapstone-donotdelete-pr-dg5vjwlnynkxzq',Key='credit_train.csv')['Body']\n",
    "# add missing __iter__ method, so pandas accepts body as file-like object\n",
    "if not hasattr(body, \"__iter__\"): body.__iter__ = types.MethodType( __iter__, body )\n",
    "\n",
    "df_train = pd.read_csv(body)\n",
    "df_train.head()\n"
   ],
   "execution_count": 2,
   "outputs": [
    {
     "output_type": "execute_result",
     "execution_count": 2,
     "data": {
      "text/plain": "                                Loan ID                           Customer ID  \\\n0  14dd8831-6af5-400b-83ec-68e61888a048  981165ec-3274-42f5-a3b4-d104041a9ca9   \n1  4771cc26-131a-45db-b5aa-537ea4ba5342  2de017a3-2e01-49cb-a581-08169e83be29   \n2  4eed4e6a-aa2f-4c91-8651-ce984ee8fb26  5efb2b2b-bf11-4dfd-a572-3761a2694725   \n3  77598f7b-32e7-4e3b-a6e5-06ba0d98fe8a  e777faab-98ae-45af-9a86-7ce5b33b1011   \n4  d4062e70-befa-4995-8643-a0de73938182  81536ad9-5ccf-4eb8-befb-47a4d608658e   \n\n  Loan Status  Current Loan Amount        Term  Credit Score  Annual Income  \\\n0  Fully Paid             445412.0  Short Term         709.0      1167493.0   \n1  Fully Paid             262328.0  Short Term           NaN            NaN   \n2  Fully Paid           99999999.0  Short Term         741.0      2231892.0   \n3  Fully Paid             347666.0   Long Term         721.0       806949.0   \n4  Fully Paid             176220.0  Short Term           NaN            NaN   \n\n  Years in current job Home Ownership             Purpose  Monthly Debt  \\\n0              8 years  Home Mortgage   Home Improvements       5214.74   \n1            10+ years  Home Mortgage  Debt Consolidation      33295.98   \n2              8 years       Own Home  Debt Consolidation      29200.53   \n3              3 years       Own Home  Debt Consolidation       8741.90   \n4              5 years           Rent  Debt Consolidation      20639.70   \n\n   Years of Credit History  Months since last delinquent  \\\n0                     17.2                           NaN   \n1                     21.1                           8.0   \n2                     14.9                          29.0   \n3                     12.0                           NaN   \n4                      6.1                           NaN   \n\n   Number of Open Accounts  Number of Credit Problems  Current Credit Balance  \\\n0                      6.0                        1.0                228190.0   \n1                     35.0                        0.0                229976.0   \n2                     18.0                        1.0                297996.0   \n3                      9.0                        0.0                256329.0   \n4                     15.0                        0.0                253460.0   \n\n   Maximum Open Credit  Bankruptcies  Tax Liens  \n0             416746.0           1.0        0.0  \n1             850784.0           0.0        0.0  \n2             750090.0           0.0        0.0  \n3             386958.0           0.0        0.0  \n4             427174.0           0.0        0.0  ",
      "text/html": "<div>\n<style scoped>\n    .dataframe tbody tr th:only-of-type {\n        vertical-align: middle;\n    }\n\n    .dataframe tbody tr th {\n        vertical-align: top;\n    }\n\n    .dataframe thead th {\n        text-align: right;\n    }\n</style>\n<table border=\"1\" class=\"dataframe\">\n  <thead>\n    <tr style=\"text-align: right;\">\n      <th></th>\n      <th>Loan ID</th>\n      <th>Customer ID</th>\n      <th>Loan Status</th>\n      <th>Current Loan Amount</th>\n      <th>Term</th>\n      <th>Credit Score</th>\n      <th>Annual Income</th>\n      <th>Years in current job</th>\n      <th>Home Ownership</th>\n      <th>Purpose</th>\n      <th>Monthly Debt</th>\n      <th>Years of Credit History</th>\n      <th>Months since last delinquent</th>\n      <th>Number of Open Accounts</th>\n      <th>Number of Credit Problems</th>\n      <th>Current Credit Balance</th>\n      <th>Maximum Open Credit</th>\n      <th>Bankruptcies</th>\n      <th>Tax Liens</th>\n    </tr>\n  </thead>\n  <tbody>\n    <tr>\n      <th>0</th>\n      <td>14dd8831-6af5-400b-83ec-68e61888a048</td>\n      <td>981165ec-3274-42f5-a3b4-d104041a9ca9</td>\n      <td>Fully Paid</td>\n      <td>445412.0</td>\n      <td>Short Term</td>\n      <td>709.0</td>\n      <td>1167493.0</td>\n      <td>8 years</td>\n      <td>Home Mortgage</td>\n      <td>Home Improvements</td>\n      <td>5214.74</td>\n      <td>17.2</td>\n      <td>NaN</td>\n      <td>6.0</td>\n      <td>1.0</td>\n      <td>228190.0</td>\n      <td>416746.0</td>\n      <td>1.0</td>\n      <td>0.0</td>\n    </tr>\n    <tr>\n      <th>1</th>\n      <td>4771cc26-131a-45db-b5aa-537ea4ba5342</td>\n      <td>2de017a3-2e01-49cb-a581-08169e83be29</td>\n      <td>Fully Paid</td>\n      <td>262328.0</td>\n      <td>Short Term</td>\n      <td>NaN</td>\n      <td>NaN</td>\n      <td>10+ years</td>\n      <td>Home Mortgage</td>\n      <td>Debt Consolidation</td>\n      <td>33295.98</td>\n      <td>21.1</td>\n      <td>8.0</td>\n      <td>35.0</td>\n      <td>0.0</td>\n      <td>229976.0</td>\n      <td>850784.0</td>\n      <td>0.0</td>\n      <td>0.0</td>\n    </tr>\n    <tr>\n      <th>2</th>\n      <td>4eed4e6a-aa2f-4c91-8651-ce984ee8fb26</td>\n      <td>5efb2b2b-bf11-4dfd-a572-3761a2694725</td>\n      <td>Fully Paid</td>\n      <td>99999999.0</td>\n      <td>Short Term</td>\n      <td>741.0</td>\n      <td>2231892.0</td>\n      <td>8 years</td>\n      <td>Own Home</td>\n      <td>Debt Consolidation</td>\n      <td>29200.53</td>\n      <td>14.9</td>\n      <td>29.0</td>\n      <td>18.0</td>\n      <td>1.0</td>\n      <td>297996.0</td>\n      <td>750090.0</td>\n      <td>0.0</td>\n      <td>0.0</td>\n    </tr>\n    <tr>\n      <th>3</th>\n      <td>77598f7b-32e7-4e3b-a6e5-06ba0d98fe8a</td>\n      <td>e777faab-98ae-45af-9a86-7ce5b33b1011</td>\n      <td>Fully Paid</td>\n      <td>347666.0</td>\n      <td>Long Term</td>\n      <td>721.0</td>\n      <td>806949.0</td>\n      <td>3 years</td>\n      <td>Own Home</td>\n      <td>Debt Consolidation</td>\n      <td>8741.90</td>\n      <td>12.0</td>\n      <td>NaN</td>\n      <td>9.0</td>\n      <td>0.0</td>\n      <td>256329.0</td>\n      <td>386958.0</td>\n      <td>0.0</td>\n      <td>0.0</td>\n    </tr>\n    <tr>\n      <th>4</th>\n      <td>d4062e70-befa-4995-8643-a0de73938182</td>\n      <td>81536ad9-5ccf-4eb8-befb-47a4d608658e</td>\n      <td>Fully Paid</td>\n      <td>176220.0</td>\n      <td>Short Term</td>\n      <td>NaN</td>\n      <td>NaN</td>\n      <td>5 years</td>\n      <td>Rent</td>\n      <td>Debt Consolidation</td>\n      <td>20639.70</td>\n      <td>6.1</td>\n      <td>NaN</td>\n      <td>15.0</td>\n      <td>0.0</td>\n      <td>253460.0</td>\n      <td>427174.0</td>\n      <td>0.0</td>\n      <td>0.0</td>\n    </tr>\n  </tbody>\n</table>\n</div>"
     },
     "metadata": {}
    }
   ]
  },
  {
   "metadata": {},
   "cell_type": "markdown",
   "source": "***First look on train data:***"
  },
  {
   "metadata": {},
   "cell_type": "code",
   "source": "df_train = df_train.reset_index()",
   "execution_count": 3,
   "outputs": []
  },
  {
   "metadata": {},
   "cell_type": "code",
   "source": "df_train.shape",
   "execution_count": 4,
   "outputs": [
    {
     "output_type": "execute_result",
     "execution_count": 4,
     "data": {
      "text/plain": "(100514, 20)"
     },
     "metadata": {}
    }
   ]
  },
  {
   "metadata": {},
   "cell_type": "code",
   "source": "df_train.info()",
   "execution_count": 5,
   "outputs": [
    {
     "output_type": "stream",
     "text": "<class 'pandas.core.frame.DataFrame'>\nRangeIndex: 100514 entries, 0 to 100513\nData columns (total 20 columns):\nindex                           100514 non-null int64\nLoan ID                         100000 non-null object\nCustomer ID                     100000 non-null object\nLoan Status                     100000 non-null object\nCurrent Loan Amount             100000 non-null float64\nTerm                            100000 non-null object\nCredit Score                    80846 non-null float64\nAnnual Income                   80846 non-null float64\nYears in current job            95778 non-null object\nHome Ownership                  100000 non-null object\nPurpose                         100000 non-null object\nMonthly Debt                    100000 non-null float64\nYears of Credit History         100000 non-null float64\nMonths since last delinquent    46859 non-null float64\nNumber of Open Accounts         100000 non-null float64\nNumber of Credit Problems       100000 non-null float64\nCurrent Credit Balance          100000 non-null float64\nMaximum Open Credit             99998 non-null float64\nBankruptcies                    99796 non-null float64\nTax Liens                       99990 non-null float64\ndtypes: float64(12), int64(1), object(7)\nmemory usage: 15.3+ MB\n",
     "name": "stdout"
    }
   ]
  },
  {
   "metadata": {},
   "cell_type": "code",
   "source": "df_train['Loan Status'].value_counts()",
   "execution_count": 6,
   "outputs": [
    {
     "output_type": "execute_result",
     "execution_count": 6,
     "data": {
      "text/plain": "Fully Paid     77361\nCharged Off    22639\nName: Loan Status, dtype: int64"
     },
     "metadata": {}
    }
   ]
  },
  {
   "metadata": {},
   "cell_type": "markdown",
   "source": "**Encoding levels**"
  },
  {
   "metadata": {},
   "cell_type": "code",
   "source": "df_train['Loan Status'] = df_train['Loan Status'].map({'Fully Paid': int('0'), 'Charged Off': int('1')})",
   "execution_count": 7,
   "outputs": []
  },
  {
   "metadata": {},
   "cell_type": "code",
   "source": "df_train['Loan Status'].value_counts()",
   "execution_count": 8,
   "outputs": [
    {
     "output_type": "execute_result",
     "execution_count": 8,
     "data": {
      "text/plain": "0.0    77361\n1.0    22639\nName: Loan Status, dtype: int64"
     },
     "metadata": {}
    }
   ]
  },
  {
   "metadata": {},
   "cell_type": "code",
   "source": "df_train['Term'].value_counts()",
   "execution_count": 9,
   "outputs": [
    {
     "output_type": "execute_result",
     "execution_count": 9,
     "data": {
      "text/plain": "Short Term    72208\nLong Term     27792\nName: Term, dtype: int64"
     },
     "metadata": {}
    }
   ]
  },
  {
   "metadata": {},
   "cell_type": "code",
   "source": "df_train['Term'] = df_train['Term'].map({'Short Term': int('0'), 'Long Term': int('1')})",
   "execution_count": 10,
   "outputs": []
  },
  {
   "metadata": {},
   "cell_type": "code",
   "source": "df_train['Term'].value_counts()",
   "execution_count": 11,
   "outputs": [
    {
     "output_type": "execute_result",
     "execution_count": 11,
     "data": {
      "text/plain": "0.0    72208\n1.0    27792\nName: Term, dtype: int64"
     },
     "metadata": {}
    }
   ]
  },
  {
   "metadata": {},
   "cell_type": "code",
   "source": "df_train['Years in current job'] = df_train['Years in current job'].map({'10+ years': int('0'), '2 years': int('1'), '3 years': int('2'), '< 1 year': int('3'), '5 years': int('4'), '1 year': int('5'), '4 year': int('6'), '6 year': int('7'), '7 year': int('8'), '8 year': int('9'), '9 year': int('10')})",
   "execution_count": 12,
   "outputs": []
  },
  {
   "metadata": {},
   "cell_type": "code",
   "source": "df_train['Years in current job'].value_counts()",
   "execution_count": 13,
   "outputs": [
    {
     "output_type": "execute_result",
     "execution_count": 13,
     "data": {
      "text/plain": "0.0    31121\n1.0     9134\n2.0     8169\n3.0     8164\n4.0     6787\n5.0     6460\nName: Years in current job, dtype: int64"
     },
     "metadata": {}
    }
   ]
  },
  {
   "metadata": {},
   "cell_type": "code",
   "source": "df_train['Home Ownership'].value_counts()",
   "execution_count": 14,
   "outputs": [
    {
     "output_type": "execute_result",
     "execution_count": 14,
     "data": {
      "text/plain": "Home Mortgage    48410\nRent             42194\nOwn Home          9182\nHaveMortgage       214\nName: Home Ownership, dtype: int64"
     },
     "metadata": {}
    }
   ]
  },
  {
   "metadata": {},
   "cell_type": "code",
   "source": "df_train['Home Ownership'] = df_train['Home Ownership'].map({'Home Ownership': int('0'), 'Rent': int('1'), 'Own Home': int('2'), 'Have Mortgage': int('3')})",
   "execution_count": 15,
   "outputs": []
  },
  {
   "metadata": {},
   "cell_type": "code",
   "source": "df_train['Home Ownership'].value_counts()",
   "execution_count": 16,
   "outputs": [
    {
     "output_type": "execute_result",
     "execution_count": 16,
     "data": {
      "text/plain": "1.0    42194\n2.0     9182\nName: Home Ownership, dtype: int64"
     },
     "metadata": {}
    }
   ]
  },
  {
   "metadata": {},
   "cell_type": "code",
   "source": "df_train['Purpose'].value_counts()",
   "execution_count": 17,
   "outputs": [
    {
     "output_type": "execute_result",
     "execution_count": 17,
     "data": {
      "text/plain": "Debt Consolidation      78552\nother                    6037\nHome Improvements        5839\nOther                    3250\nBusiness Loan            1569\nBuy a Car                1265\nMedical Bills            1127\nBuy House                 678\nTake a Trip               573\nmajor_purchase            352\nsmall_business            283\nmoving                    150\nwedding                   115\nvacation                  101\nEducational Expenses       99\nrenewable_energy           10\nName: Purpose, dtype: int64"
     },
     "metadata": {}
    }
   ]
  },
  {
   "metadata": {},
   "cell_type": "code",
   "source": "df_train['Purpose'] = df_train['Purpose'].map({'Dept Consolidation': int('0'), 'other': int('1'), 'Home Improvements': int('2'), 'Other': int('1'), 'Business Loan': int('2'), 'Buy a Car': int('3'), 'Medical bill': int('4'), 'Buy House': int('5'), 'Take a trip': int('6'), 'major_purchase': int('7'), 'small_business': int('8'), 'moving': int('9'), 'wedding': int('10'), 'vacation': int('11'), 'Educational Expenses': int('12'), 'renewable_energy': int('13')})",
   "execution_count": 18,
   "outputs": []
  },
  {
   "metadata": {},
   "cell_type": "code",
   "source": "df_train['Purpose'].value_counts()",
   "execution_count": 19,
   "outputs": [
    {
     "output_type": "execute_result",
     "execution_count": 19,
     "data": {
      "text/plain": "1.0     9287\n2.0     7408\n3.0     1265\n5.0      678\n7.0      352\n8.0      283\n9.0      150\n10.0     115\n11.0     101\n12.0      99\n13.0      10\nName: Purpose, dtype: int64"
     },
     "metadata": {}
    }
   ]
  },
  {
   "metadata": {},
   "cell_type": "markdown",
   "source": "**Checking null values, Deleting unnecessary columns**"
  },
  {
   "metadata": {},
   "cell_type": "code",
   "source": "del(df_train['Loan ID'])\ndel(df_train['Customer ID'])",
   "execution_count": 20,
   "outputs": []
  },
  {
   "metadata": {},
   "cell_type": "code",
   "source": "df_train = df_train[np.isnan(df_train['Loan Status']) != True]",
   "execution_count": 21,
   "outputs": []
  },
  {
   "metadata": {},
   "cell_type": "code",
   "source": "df_train.info()",
   "execution_count": 22,
   "outputs": [
    {
     "output_type": "stream",
     "text": "<class 'pandas.core.frame.DataFrame'>\nInt64Index: 100000 entries, 0 to 99999\nData columns (total 18 columns):\nindex                           100000 non-null int64\nLoan Status                     100000 non-null float64\nCurrent Loan Amount             100000 non-null float64\nTerm                            100000 non-null float64\nCredit Score                    80846 non-null float64\nAnnual Income                   80846 non-null float64\nYears in current job            69835 non-null float64\nHome Ownership                  51376 non-null float64\nPurpose                         19748 non-null float64\nMonthly Debt                    100000 non-null float64\nYears of Credit History         100000 non-null float64\nMonths since last delinquent    46859 non-null float64\nNumber of Open Accounts         100000 non-null float64\nNumber of Credit Problems       100000 non-null float64\nCurrent Credit Balance          100000 non-null float64\nMaximum Open Credit             99998 non-null float64\nBankruptcies                    99796 non-null float64\nTax Liens                       99990 non-null float64\ndtypes: float64(17), int64(1)\nmemory usage: 14.5 MB\n",
     "name": "stdout"
    }
   ]
  },
  {
   "metadata": {},
   "cell_type": "code",
   "source": "df_train.shape",
   "execution_count": 23,
   "outputs": [
    {
     "output_type": "execute_result",
     "execution_count": 23,
     "data": {
      "text/plain": "(100000, 18)"
     },
     "metadata": {}
    }
   ]
  },
  {
   "metadata": {},
   "cell_type": "code",
   "source": "del(df_train['Months since last delinquent'])",
   "execution_count": 24,
   "outputs": []
  },
  {
   "metadata": {},
   "cell_type": "code",
   "source": "df_train_na = df_train.dropna()",
   "execution_count": 25,
   "outputs": []
  },
  {
   "metadata": {},
   "cell_type": "code",
   "source": "df_train_na.info()",
   "execution_count": 26,
   "outputs": [
    {
     "output_type": "stream",
     "text": "<class 'pandas.core.frame.DataFrame'>\nInt64Index: 5556 entries, 25 to 99990\nData columns (total 17 columns):\nindex                        5556 non-null int64\nLoan Status                  5556 non-null float64\nCurrent Loan Amount          5556 non-null float64\nTerm                         5556 non-null float64\nCredit Score                 5556 non-null float64\nAnnual Income                5556 non-null float64\nYears in current job         5556 non-null float64\nHome Ownership               5556 non-null float64\nPurpose                      5556 non-null float64\nMonthly Debt                 5556 non-null float64\nYears of Credit History      5556 non-null float64\nNumber of Open Accounts      5556 non-null float64\nNumber of Credit Problems    5556 non-null float64\nCurrent Credit Balance       5556 non-null float64\nMaximum Open Credit          5556 non-null float64\nBankruptcies                 5556 non-null float64\nTax Liens                    5556 non-null float64\ndtypes: float64(16), int64(1)\nmemory usage: 781.3 KB\n",
     "name": "stdout"
    }
   ]
  },
  {
   "metadata": {},
   "cell_type": "code",
   "source": "df_train_na.shape",
   "execution_count": 27,
   "outputs": [
    {
     "output_type": "execute_result",
     "execution_count": 27,
     "data": {
      "text/plain": "(5556, 17)"
     },
     "metadata": {}
    }
   ]
  },
  {
   "metadata": {},
   "cell_type": "markdown",
   "source": "**Checking correlation between features**"
  },
  {
   "metadata": {},
   "cell_type": "code",
   "source": "corr = df_train_na.corr()\ncorr",
   "execution_count": 28,
   "outputs": [
    {
     "output_type": "execute_result",
     "execution_count": 28,
     "data": {
      "text/plain": "                              index  Loan Status  Current Loan Amount  \\\nindex                      1.000000    -0.019448            -0.004821   \nLoan Status               -0.019448     1.000000            -0.205856   \nCurrent Loan Amount       -0.004821    -0.205856             1.000000   \nTerm                      -0.037820     0.111796            -0.057433   \nCredit Score              -0.017248     0.450765            -0.090651   \nAnnual Income             -0.003967    -0.050195             0.005081   \nYears in current job      -0.011972    -0.026442             0.004870   \nHome Ownership             0.001885    -0.018725            -0.002319   \nPurpose                   -0.027737     0.013698             0.012420   \nMonthly Debt              -0.001636     0.029417            -0.020406   \nYears of Credit History    0.008253     0.003910             0.009305   \nNumber of Open Accounts    0.005593     0.021724             0.002340   \nNumber of Credit Problems  0.015509    -0.029703             0.002234   \nCurrent Credit Balance    -0.016524     0.031103            -0.006789   \nMaximum Open Credit        0.005582    -0.018208             0.033296   \nBankruptcies               0.022275    -0.039999            -0.004197   \nTax Liens                  0.004500    -0.010621             0.001993   \n\n                               Term  Credit Score  Annual Income  \\\nindex                     -0.037820     -0.017248      -0.003967   \nLoan Status                0.111796      0.450765      -0.050195   \nCurrent Loan Amount       -0.057433     -0.090651       0.005081   \nTerm                       1.000000      0.045091       0.103102   \nCredit Score               0.045091      1.000000      -0.013616   \nAnnual Income              0.103102     -0.013616       1.000000   \nYears in current job       0.002712     -0.025508      -0.071511   \nHome Ownership             0.072476     -0.003760       0.081243   \nPurpose                    0.009802      0.008224       0.054151   \nMonthly Debt               0.127410      0.008037       0.506888   \nYears of Credit History    0.060492      0.008879       0.187643   \nNumber of Open Accounts    0.063630      0.017168       0.144955   \nNumber of Credit Problems -0.006377     -0.010680       0.027698   \nCurrent Credit Balance     0.064029      0.019676       0.289350   \nMaximum Open Credit        0.037370     -0.002615       0.115776   \nBankruptcies              -0.009292     -0.009131       0.006446   \nTax Liens                  0.007707     -0.006976       0.036894   \n\n                           Years in current job  Home Ownership   Purpose  \\\nindex                                 -0.011972        0.001885 -0.027737   \nLoan Status                           -0.026442       -0.018725  0.013698   \nCurrent Loan Amount                    0.004870       -0.002319  0.012420   \nTerm                                   0.002712        0.072476  0.009802   \nCredit Score                          -0.025508       -0.003760  0.008224   \nAnnual Income                         -0.071511        0.081243  0.054151   \nYears in current job                   1.000000       -0.110501  0.034050   \nHome Ownership                        -0.110501        1.000000 -0.005286   \nPurpose                                0.034050       -0.005286  1.000000   \nMonthly Debt                          -0.104210        0.075675  0.008961   \nYears of Credit History               -0.196027        0.152634 -0.001238   \nNumber of Open Accounts               -0.018776        0.033521  0.026139   \nNumber of Credit Problems             -0.093515        0.034868 -0.015266   \nCurrent Credit Balance                -0.094740        0.149979 -0.022323   \nMaximum Open Credit                   -0.038687        0.095210  0.000210   \nBankruptcies                          -0.084261        0.031778 -0.011215   \nTax Liens                             -0.039524        0.014823 -0.018231   \n\n                           Monthly Debt  Years of Credit History  \\\nindex                         -0.001636                 0.008253   \nLoan Status                    0.029417                 0.003910   \nCurrent Loan Amount           -0.020406                 0.009305   \nTerm                           0.127410                 0.060492   \nCredit Score                   0.008037                 0.008879   \nAnnual Income                  0.506888                 0.187643   \nYears in current job          -0.104210                -0.196027   \nHome Ownership                 0.075675                 0.152634   \nPurpose                        0.008961                -0.001238   \nMonthly Debt                   1.000000                 0.222836   \nYears of Credit History        0.222836                 1.000000   \nNumber of Open Accounts        0.420813                 0.087405   \nNumber of Credit Problems      0.029691                 0.091098   \nCurrent Credit Balance         0.459309                 0.217489   \nMaximum Open Credit            0.104423                 0.098175   \nBankruptcies                   0.018298                 0.116489   \nTax Liens                      0.031990                 0.015227   \n\n                           Number of Open Accounts  Number of Credit Problems  \\\nindex                                     0.005593                   0.015509   \nLoan Status                               0.021724                  -0.029703   \nCurrent Loan Amount                       0.002340                   0.002234   \nTerm                                      0.063630                  -0.006377   \nCredit Score                              0.017168                  -0.010680   \nAnnual Income                             0.144955                   0.027698   \nYears in current job                     -0.018776                  -0.093515   \nHome Ownership                            0.033521                   0.034868   \nPurpose                                   0.026139                  -0.015266   \nMonthly Debt                              0.420813                   0.029691   \nYears of Credit History                   0.087405                   0.091098   \nNumber of Open Accounts                   1.000000                   0.018414   \nNumber of Credit Problems                 0.018414                   1.000000   \nCurrent Credit Balance                    0.253428                  -0.067422   \nMaximum Open Credit                       0.095597                  -0.026277   \nBankruptcies                              0.033972                   0.677902   \nTax Liens                                -0.003201                   0.663241   \n\n                           Current Credit Balance  Maximum Open Credit  \\\nindex                                   -0.016524             0.005582   \nLoan Status                              0.031103            -0.018208   \nCurrent Loan Amount                     -0.006789             0.033296   \nTerm                                     0.064029             0.037370   \nCredit Score                             0.019676            -0.002615   \nAnnual Income                            0.289350             0.115776   \nYears in current job                    -0.094740            -0.038687   \nHome Ownership                           0.149979             0.095210   \nPurpose                                 -0.022323             0.000210   \nMonthly Debt                             0.459309             0.104423   \nYears of Credit History                  0.217489             0.098175   \nNumber of Open Accounts                  0.253428             0.095597   \nNumber of Credit Problems               -0.067422            -0.026277   \nCurrent Credit Balance                   1.000000             0.392183   \nMaximum Open Credit                      0.392183             1.000000   \nBankruptcies                            -0.076608            -0.027660   \nTax Liens                               -0.010734            -0.004990   \n\n                           Bankruptcies  Tax Liens  \nindex                          0.022275   0.004500  \nLoan Status                   -0.039999  -0.010621  \nCurrent Loan Amount           -0.004197   0.001993  \nTerm                          -0.009292   0.007707  \nCredit Score                  -0.009131  -0.006976  \nAnnual Income                  0.006446   0.036894  \nYears in current job          -0.084261  -0.039524  \nHome Ownership                 0.031778   0.014823  \nPurpose                       -0.011215  -0.018231  \nMonthly Debt                   0.018298   0.031990  \nYears of Credit History        0.116489   0.015227  \nNumber of Open Accounts        0.033972  -0.003201  \nNumber of Credit Problems      0.677902   0.663241  \nCurrent Credit Balance        -0.076608  -0.010734  \nMaximum Open Credit           -0.027660  -0.004990  \nBankruptcies                   1.000000   0.039796  \nTax Liens                      0.039796   1.000000  ",
      "text/html": "<div>\n<style scoped>\n    .dataframe tbody tr th:only-of-type {\n        vertical-align: middle;\n    }\n\n    .dataframe tbody tr th {\n        vertical-align: top;\n    }\n\n    .dataframe thead th {\n        text-align: right;\n    }\n</style>\n<table border=\"1\" class=\"dataframe\">\n  <thead>\n    <tr style=\"text-align: right;\">\n      <th></th>\n      <th>index</th>\n      <th>Loan Status</th>\n      <th>Current Loan Amount</th>\n      <th>Term</th>\n      <th>Credit Score</th>\n      <th>Annual Income</th>\n      <th>Years in current job</th>\n      <th>Home Ownership</th>\n      <th>Purpose</th>\n      <th>Monthly Debt</th>\n      <th>Years of Credit History</th>\n      <th>Number of Open Accounts</th>\n      <th>Number of Credit Problems</th>\n      <th>Current Credit Balance</th>\n      <th>Maximum Open Credit</th>\n      <th>Bankruptcies</th>\n      <th>Tax Liens</th>\n    </tr>\n  </thead>\n  <tbody>\n    <tr>\n      <th>index</th>\n      <td>1.000000</td>\n      <td>-0.019448</td>\n      <td>-0.004821</td>\n      <td>-0.037820</td>\n      <td>-0.017248</td>\n      <td>-0.003967</td>\n      <td>-0.011972</td>\n      <td>0.001885</td>\n      <td>-0.027737</td>\n      <td>-0.001636</td>\n      <td>0.008253</td>\n      <td>0.005593</td>\n      <td>0.015509</td>\n      <td>-0.016524</td>\n      <td>0.005582</td>\n      <td>0.022275</td>\n      <td>0.004500</td>\n    </tr>\n    <tr>\n      <th>Loan Status</th>\n      <td>-0.019448</td>\n      <td>1.000000</td>\n      <td>-0.205856</td>\n      <td>0.111796</td>\n      <td>0.450765</td>\n      <td>-0.050195</td>\n      <td>-0.026442</td>\n      <td>-0.018725</td>\n      <td>0.013698</td>\n      <td>0.029417</td>\n      <td>0.003910</td>\n      <td>0.021724</td>\n      <td>-0.029703</td>\n      <td>0.031103</td>\n      <td>-0.018208</td>\n      <td>-0.039999</td>\n      <td>-0.010621</td>\n    </tr>\n    <tr>\n      <th>Current Loan Amount</th>\n      <td>-0.004821</td>\n      <td>-0.205856</td>\n      <td>1.000000</td>\n      <td>-0.057433</td>\n      <td>-0.090651</td>\n      <td>0.005081</td>\n      <td>0.004870</td>\n      <td>-0.002319</td>\n      <td>0.012420</td>\n      <td>-0.020406</td>\n      <td>0.009305</td>\n      <td>0.002340</td>\n      <td>0.002234</td>\n      <td>-0.006789</td>\n      <td>0.033296</td>\n      <td>-0.004197</td>\n      <td>0.001993</td>\n    </tr>\n    <tr>\n      <th>Term</th>\n      <td>-0.037820</td>\n      <td>0.111796</td>\n      <td>-0.057433</td>\n      <td>1.000000</td>\n      <td>0.045091</td>\n      <td>0.103102</td>\n      <td>0.002712</td>\n      <td>0.072476</td>\n      <td>0.009802</td>\n      <td>0.127410</td>\n      <td>0.060492</td>\n      <td>0.063630</td>\n      <td>-0.006377</td>\n      <td>0.064029</td>\n      <td>0.037370</td>\n      <td>-0.009292</td>\n      <td>0.007707</td>\n    </tr>\n    <tr>\n      <th>Credit Score</th>\n      <td>-0.017248</td>\n      <td>0.450765</td>\n      <td>-0.090651</td>\n      <td>0.045091</td>\n      <td>1.000000</td>\n      <td>-0.013616</td>\n      <td>-0.025508</td>\n      <td>-0.003760</td>\n      <td>0.008224</td>\n      <td>0.008037</td>\n      <td>0.008879</td>\n      <td>0.017168</td>\n      <td>-0.010680</td>\n      <td>0.019676</td>\n      <td>-0.002615</td>\n      <td>-0.009131</td>\n      <td>-0.006976</td>\n    </tr>\n    <tr>\n      <th>Annual Income</th>\n      <td>-0.003967</td>\n      <td>-0.050195</td>\n      <td>0.005081</td>\n      <td>0.103102</td>\n      <td>-0.013616</td>\n      <td>1.000000</td>\n      <td>-0.071511</td>\n      <td>0.081243</td>\n      <td>0.054151</td>\n      <td>0.506888</td>\n      <td>0.187643</td>\n      <td>0.144955</td>\n      <td>0.027698</td>\n      <td>0.289350</td>\n      <td>0.115776</td>\n      <td>0.006446</td>\n      <td>0.036894</td>\n    </tr>\n    <tr>\n      <th>Years in current job</th>\n      <td>-0.011972</td>\n      <td>-0.026442</td>\n      <td>0.004870</td>\n      <td>0.002712</td>\n      <td>-0.025508</td>\n      <td>-0.071511</td>\n      <td>1.000000</td>\n      <td>-0.110501</td>\n      <td>0.034050</td>\n      <td>-0.104210</td>\n      <td>-0.196027</td>\n      <td>-0.018776</td>\n      <td>-0.093515</td>\n      <td>-0.094740</td>\n      <td>-0.038687</td>\n      <td>-0.084261</td>\n      <td>-0.039524</td>\n    </tr>\n    <tr>\n      <th>Home Ownership</th>\n      <td>0.001885</td>\n      <td>-0.018725</td>\n      <td>-0.002319</td>\n      <td>0.072476</td>\n      <td>-0.003760</td>\n      <td>0.081243</td>\n      <td>-0.110501</td>\n      <td>1.000000</td>\n      <td>-0.005286</td>\n      <td>0.075675</td>\n      <td>0.152634</td>\n      <td>0.033521</td>\n      <td>0.034868</td>\n      <td>0.149979</td>\n      <td>0.095210</td>\n      <td>0.031778</td>\n      <td>0.014823</td>\n    </tr>\n    <tr>\n      <th>Purpose</th>\n      <td>-0.027737</td>\n      <td>0.013698</td>\n      <td>0.012420</td>\n      <td>0.009802</td>\n      <td>0.008224</td>\n      <td>0.054151</td>\n      <td>0.034050</td>\n      <td>-0.005286</td>\n      <td>1.000000</td>\n      <td>0.008961</td>\n      <td>-0.001238</td>\n      <td>0.026139</td>\n      <td>-0.015266</td>\n      <td>-0.022323</td>\n      <td>0.000210</td>\n      <td>-0.011215</td>\n      <td>-0.018231</td>\n    </tr>\n    <tr>\n      <th>Monthly Debt</th>\n      <td>-0.001636</td>\n      <td>0.029417</td>\n      <td>-0.020406</td>\n      <td>0.127410</td>\n      <td>0.008037</td>\n      <td>0.506888</td>\n      <td>-0.104210</td>\n      <td>0.075675</td>\n      <td>0.008961</td>\n      <td>1.000000</td>\n      <td>0.222836</td>\n      <td>0.420813</td>\n      <td>0.029691</td>\n      <td>0.459309</td>\n      <td>0.104423</td>\n      <td>0.018298</td>\n      <td>0.031990</td>\n    </tr>\n    <tr>\n      <th>Years of Credit History</th>\n      <td>0.008253</td>\n      <td>0.003910</td>\n      <td>0.009305</td>\n      <td>0.060492</td>\n      <td>0.008879</td>\n      <td>0.187643</td>\n      <td>-0.196027</td>\n      <td>0.152634</td>\n      <td>-0.001238</td>\n      <td>0.222836</td>\n      <td>1.000000</td>\n      <td>0.087405</td>\n      <td>0.091098</td>\n      <td>0.217489</td>\n      <td>0.098175</td>\n      <td>0.116489</td>\n      <td>0.015227</td>\n    </tr>\n    <tr>\n      <th>Number of Open Accounts</th>\n      <td>0.005593</td>\n      <td>0.021724</td>\n      <td>0.002340</td>\n      <td>0.063630</td>\n      <td>0.017168</td>\n      <td>0.144955</td>\n      <td>-0.018776</td>\n      <td>0.033521</td>\n      <td>0.026139</td>\n      <td>0.420813</td>\n      <td>0.087405</td>\n      <td>1.000000</td>\n      <td>0.018414</td>\n      <td>0.253428</td>\n      <td>0.095597</td>\n      <td>0.033972</td>\n      <td>-0.003201</td>\n    </tr>\n    <tr>\n      <th>Number of Credit Problems</th>\n      <td>0.015509</td>\n      <td>-0.029703</td>\n      <td>0.002234</td>\n      <td>-0.006377</td>\n      <td>-0.010680</td>\n      <td>0.027698</td>\n      <td>-0.093515</td>\n      <td>0.034868</td>\n      <td>-0.015266</td>\n      <td>0.029691</td>\n      <td>0.091098</td>\n      <td>0.018414</td>\n      <td>1.000000</td>\n      <td>-0.067422</td>\n      <td>-0.026277</td>\n      <td>0.677902</td>\n      <td>0.663241</td>\n    </tr>\n    <tr>\n      <th>Current Credit Balance</th>\n      <td>-0.016524</td>\n      <td>0.031103</td>\n      <td>-0.006789</td>\n      <td>0.064029</td>\n      <td>0.019676</td>\n      <td>0.289350</td>\n      <td>-0.094740</td>\n      <td>0.149979</td>\n      <td>-0.022323</td>\n      <td>0.459309</td>\n      <td>0.217489</td>\n      <td>0.253428</td>\n      <td>-0.067422</td>\n      <td>1.000000</td>\n      <td>0.392183</td>\n      <td>-0.076608</td>\n      <td>-0.010734</td>\n    </tr>\n    <tr>\n      <th>Maximum Open Credit</th>\n      <td>0.005582</td>\n      <td>-0.018208</td>\n      <td>0.033296</td>\n      <td>0.037370</td>\n      <td>-0.002615</td>\n      <td>0.115776</td>\n      <td>-0.038687</td>\n      <td>0.095210</td>\n      <td>0.000210</td>\n      <td>0.104423</td>\n      <td>0.098175</td>\n      <td>0.095597</td>\n      <td>-0.026277</td>\n      <td>0.392183</td>\n      <td>1.000000</td>\n      <td>-0.027660</td>\n      <td>-0.004990</td>\n    </tr>\n    <tr>\n      <th>Bankruptcies</th>\n      <td>0.022275</td>\n      <td>-0.039999</td>\n      <td>-0.004197</td>\n      <td>-0.009292</td>\n      <td>-0.009131</td>\n      <td>0.006446</td>\n      <td>-0.084261</td>\n      <td>0.031778</td>\n      <td>-0.011215</td>\n      <td>0.018298</td>\n      <td>0.116489</td>\n      <td>0.033972</td>\n      <td>0.677902</td>\n      <td>-0.076608</td>\n      <td>-0.027660</td>\n      <td>1.000000</td>\n      <td>0.039796</td>\n    </tr>\n    <tr>\n      <th>Tax Liens</th>\n      <td>0.004500</td>\n      <td>-0.010621</td>\n      <td>0.001993</td>\n      <td>0.007707</td>\n      <td>-0.006976</td>\n      <td>0.036894</td>\n      <td>-0.039524</td>\n      <td>0.014823</td>\n      <td>-0.018231</td>\n      <td>0.031990</td>\n      <td>0.015227</td>\n      <td>-0.003201</td>\n      <td>0.663241</td>\n      <td>-0.010734</td>\n      <td>-0.004990</td>\n      <td>0.039796</td>\n      <td>1.000000</td>\n    </tr>\n  </tbody>\n</table>\n</div>"
     },
     "metadata": {}
    }
   ]
  },
  {
   "metadata": {},
   "cell_type": "code",
   "source": "sns.heatmap(corr)",
   "execution_count": 29,
   "outputs": [
    {
     "output_type": "execute_result",
     "execution_count": 29,
     "data": {
      "text/plain": "<matplotlib.axes._subplots.AxesSubplot at 0x7f61f9065128>"
     },
     "metadata": {}
    },
    {
     "output_type": "display_data",
     "data": {
      "text/plain": "<Figure size 432x288 with 2 Axes>",
      "image/png": "[encoded data removed]"
     },
     "metadata": {
      "needs_background": "light"
     }
    }
   ]
  },
  {
   "metadata": {},
   "cell_type": "code",
   "source": "corr['Credit Score'][abs(corr['Credit Score']) > 0.1]",
   "execution_count": 30,
   "outputs": [
    {
     "output_type": "execute_result",
     "execution_count": 30,
     "data": {
      "text/plain": "Loan Status     0.450765\nCredit Score    1.000000\nName: Credit Score, dtype: float64"
     },
     "metadata": {}
    }
   ]
  },
  {
   "metadata": {},
   "cell_type": "code",
   "source": "corr['Annual Income'][abs(corr['Annual Income']) > 0.1]",
   "execution_count": 31,
   "outputs": [
    {
     "output_type": "execute_result",
     "execution_count": 31,
     "data": {
      "text/plain": "Term                       0.103102\nAnnual Income              1.000000\nMonthly Debt               0.506888\nYears of Credit History    0.187643\nNumber of Open Accounts    0.144955\nCurrent Credit Balance     0.289350\nMaximum Open Credit        0.115776\nName: Annual Income, dtype: float64"
     },
     "metadata": {}
    }
   ]
  },
  {
   "metadata": {},
   "cell_type": "code",
   "source": "corr['Years in current job'][abs(corr['Years in current job']) > 0.1]",
   "execution_count": 32,
   "outputs": [
    {
     "output_type": "execute_result",
     "execution_count": 32,
     "data": {
      "text/plain": "Years in current job       1.000000\nHome Ownership            -0.110501\nMonthly Debt              -0.104210\nYears of Credit History   -0.196027\nName: Years in current job, dtype: float64"
     },
     "metadata": {}
    }
   ]
  },
  {
   "metadata": {},
   "cell_type": "code",
   "source": "corr['Maximum Open Credit'][abs(corr['Maximum Open Credit']) > 0.1]",
   "execution_count": 33,
   "outputs": [
    {
     "output_type": "execute_result",
     "execution_count": 33,
     "data": {
      "text/plain": "Annual Income             0.115776\nMonthly Debt              0.104423\nCurrent Credit Balance    0.392183\nMaximum Open Credit       1.000000\nName: Maximum Open Credit, dtype: float64"
     },
     "metadata": {}
    }
   ]
  },
  {
   "metadata": {},
   "cell_type": "code",
   "source": "corr['Bankruptcies'][abs(corr['Bankruptcies']) > 0.1]",
   "execution_count": 34,
   "outputs": [
    {
     "output_type": "execute_result",
     "execution_count": 34,
     "data": {
      "text/plain": "Years of Credit History      0.116489\nNumber of Credit Problems    0.677902\nBankruptcies                 1.000000\nName: Bankruptcies, dtype: float64"
     },
     "metadata": {}
    }
   ]
  },
  {
   "metadata": {},
   "cell_type": "code",
   "source": "corr['Tax Liens'][abs(corr['Tax Liens']) > 0.1]",
   "execution_count": 35,
   "outputs": [
    {
     "output_type": "execute_result",
     "execution_count": 35,
     "data": {
      "text/plain": "Number of Credit Problems    0.663241\nTax Liens                    1.000000\nName: Tax Liens, dtype: float64"
     },
     "metadata": {}
    }
   ]
  },
  {
   "metadata": {},
   "cell_type": "markdown",
   "source": "**Filling missing values with looking correlated columns**"
  },
  {
   "metadata": {},
   "cell_type": "code",
   "source": "y1 = df_train_na['Credit Score'].to_numpy()\nx1 = df_train_na['Loan Status'].to_numpy()\n",
   "execution_count": 36,
   "outputs": []
  },
  {
   "metadata": {},
   "cell_type": "code",
   "source": "y1 = y1.reshape(5556,1)\nx1 = x1.reshape(5556,1)",
   "execution_count": 37,
   "outputs": []
  },
  {
   "metadata": {},
   "cell_type": "code",
   "source": "linReg1 = LinearRegression()\nlinReg1.fit(x1,y1)",
   "execution_count": 38,
   "outputs": [
    {
     "output_type": "execute_result",
     "execution_count": 38,
     "data": {
      "text/plain": "LinearRegression(copy_X=True, fit_intercept=True, n_jobs=None,\n         normalize=False)"
     },
     "metadata": {}
    }
   ]
  },
  {
   "metadata": {},
   "cell_type": "code",
   "source": "df_train['Credit Score'] = df_train.apply(lambda x: linReg1.predict(x['Loan Status'].reshape(1,1))[0][0] if np.isnan(x['Credit Score']) else x['Credit Score'], axis = 1)",
   "execution_count": 39,
   "outputs": []
  },
  {
   "metadata": {},
   "cell_type": "code",
   "source": "df_train['Credit Score'].shape",
   "execution_count": 40,
   "outputs": [
    {
     "output_type": "execute_result",
     "execution_count": 40,
     "data": {
      "text/plain": "(100000,)"
     },
     "metadata": {}
    }
   ]
  },
  {
   "metadata": {},
   "cell_type": "code",
   "source": "y3 = df_train_na['Years in current job']\nx3 = df_train_na['Years of Credit History']\n\ny3 = y3.values.reshape(5556,1)\nx3 = x3.values.reshape(5556,1)\n\nlogReg3 = LogisticRegression()\n\nlogReg3.fit(x3,y3)\n\ndf_train['Years in current job'] = df_train.apply(lambda x: logReg3.predict(x['Years of Credit History'].reshape(-1,1) [0:1])[0] if np.isnan(x['Years in current job']) else x['Years in current job'], axis = 1)",
   "execution_count": 41,
   "outputs": []
  },
  {
   "metadata": {},
   "cell_type": "code",
   "source": "y6 = df_train_na['Tax Liens']\nx6 = df_train_na['Number of Credit Problems']\n\ny6 = y6.values.reshape(5556,1)\nx6 = x6.values.reshape(5556,1)\n\nlinReg6 = LinearRegression()\nlinReg6.fit(x6,y6)\n\ndf_train['Tax Liens'] = df_train.apply(lambda x: linReg6.predict(x['Number of Credit Problems'].reshape(1,1))[0][0] if np.isnan(x['Tax Liens']) else x['Tax Liens'], axis=1)\n\ndf_train['Tax Liens'].shape",
   "execution_count": 42,
   "outputs": [
    {
     "output_type": "execute_result",
     "execution_count": 42,
     "data": {
      "text/plain": "(100000,)"
     },
     "metadata": {}
    }
   ]
  },
  {
   "metadata": {},
   "cell_type": "code",
   "source": "x2_columns = ['Home Ownership', 'Monthly Debt', 'Years of Credit History', 'Number of Open Accounts', 'Current Credit Balance']",
   "execution_count": 43,
   "outputs": []
  },
  {
   "metadata": {},
   "cell_type": "code",
   "source": "y2 = df_train_na['Annual Income'].to_numpy()\nx2 = df_train_na[x2_columns].to_numpy()",
   "execution_count": 44,
   "outputs": []
  },
  {
   "metadata": {},
   "cell_type": "code",
   "source": "y2 = y2.reshape(5556,1)\nx2 = x2.reshape(5556,5)",
   "execution_count": 45,
   "outputs": []
  },
  {
   "metadata": {
    "scrolled": true
   },
   "cell_type": "code",
   "source": "linReg2 = LinearRegression()\n\nlinReg2.fit(x2,y2)",
   "execution_count": 46,
   "outputs": [
    {
     "output_type": "execute_result",
     "execution_count": 46,
     "data": {
      "text/plain": "LinearRegression(copy_X=True, fit_intercept=True, n_jobs=None,\n         normalize=False)"
     },
     "metadata": {}
    }
   ]
  },
  {
   "metadata": {},
   "cell_type": "code",
   "source": "sns.countplot(data=df_train, x='Purpose')\nplt.show()",
   "execution_count": 47,
   "outputs": [
    {
     "output_type": "display_data",
     "data": {
      "text/plain": "<Figure size 432x288 with 1 Axes>",
      "image/png": "[encoded data removed]"
     },
     "metadata": {
      "needs_background": "light"
     }
    }
   ]
  },
  {
   "metadata": {},
   "cell_type": "markdown",
   "source": "**Filling missing values on <'Purpose'> column with most occurences** "
  },
  {
   "metadata": {},
   "cell_type": "code",
   "source": "df_train['Purpose'].fillna(value=1, inplace=True)",
   "execution_count": 48,
   "outputs": []
  },
  {
   "metadata": {},
   "cell_type": "code",
   "source": "sns.countplot(data=df_train, x='Home Ownership')\nplt.show()",
   "execution_count": 49,
   "outputs": [
    {
     "output_type": "display_data",
     "data": {
      "text/plain": "<Figure size 432x288 with 1 Axes>",
      "image/png": "[encoded data removed]"
     },
     "metadata": {
      "needs_background": "light"
     }
    }
   ]
  },
  {
   "metadata": {},
   "cell_type": "code",
   "source": "df_train['Purpose'].astype('float64').dtypes",
   "execution_count": 50,
   "outputs": [
    {
     "output_type": "execute_result",
     "execution_count": 50,
     "data": {
      "text/plain": "dtype('float64')"
     },
     "metadata": {}
    }
   ]
  },
  {
   "metadata": {},
   "cell_type": "code",
   "source": "df_train['Home Ownership'].fillna(value=1, inplace=True)",
   "execution_count": 51,
   "outputs": []
  },
  {
   "metadata": {},
   "cell_type": "code",
   "source": "df_train['Annual Income'] = df_train.apply(lambda x: linReg2.predict(x[x2_columns].values.reshape(1,5))[0][0] if np.isnan(x['Annual Income']) else x['Annual Income'], axis = 1)",
   "execution_count": 52,
   "outputs": []
  },
  {
   "metadata": {},
   "cell_type": "code",
   "source": "y4 = df_train_na['Maximum Open Credit']\nx4 = df_train_na['Current Credit Balance']",
   "execution_count": 53,
   "outputs": []
  },
  {
   "metadata": {},
   "cell_type": "code",
   "source": "y4 = y4.values.reshape(5556,1)\nx4 = x4.values.reshape(5556,1)",
   "execution_count": 54,
   "outputs": []
  },
  {
   "metadata": {},
   "cell_type": "code",
   "source": "linReg4 = LinearRegression()\n\nlinReg4.fit(x4,y4)",
   "execution_count": 55,
   "outputs": [
    {
     "output_type": "execute_result",
     "execution_count": 55,
     "data": {
      "text/plain": "LinearRegression(copy_X=True, fit_intercept=True, n_jobs=None,\n         normalize=False)"
     },
     "metadata": {}
    }
   ]
  },
  {
   "metadata": {},
   "cell_type": "code",
   "source": "df_train['Maximum Open Credit'] = df_train.apply(lambda x: linReg4.predict(x['Current Credit Balance'].reshape(1,1)[0:1])[0] if np.isnan(x['Maximum Open Credit']) else x['Maximum Open Credit'], axis = 1)\n\ndf_train['Maximum Open Credit'].shape",
   "execution_count": 56,
   "outputs": [
    {
     "output_type": "execute_result",
     "execution_count": 56,
     "data": {
      "text/plain": "(100000,)"
     },
     "metadata": {}
    }
   ]
  },
  {
   "metadata": {},
   "cell_type": "code",
   "source": "x5_columns = ['Number of Credit Problems', 'Current Credit Balance']\ny5 = df_train_na['Bankruptcies']\nx5 = df_train_na[x5_columns]\n\ny5 = y5.values.reshape(5556,1)\nx5 = x5.values.reshape(5556,2)\n\nlinReg5 = LinearRegression()\nlinReg5.fit(x5,y5)\n\n\ndf_train['Bankruptcies'] = df_train.apply(lambda x: linReg5.predict(x[x5_columns].values.reshape(1,2))[0][0] if np.isnan(x['Bankruptcies']) else x['Bankruptcies'], axis=1)\n\ndf_train['Bankruptcies'].shape",
   "execution_count": 57,
   "outputs": [
    {
     "output_type": "execute_result",
     "execution_count": 57,
     "data": {
      "text/plain": "(100000,)"
     },
     "metadata": {}
    }
   ]
  },
  {
   "metadata": {},
   "cell_type": "code",
   "source": "df_train.info()",
   "execution_count": 58,
   "outputs": [
    {
     "output_type": "stream",
     "text": "<class 'pandas.core.frame.DataFrame'>\nInt64Index: 100000 entries, 0 to 99999\nData columns (total 17 columns):\nindex                        100000 non-null int64\nLoan Status                  100000 non-null float64\nCurrent Loan Amount          100000 non-null float64\nTerm                         100000 non-null float64\nCredit Score                 100000 non-null float64\nAnnual Income                100000 non-null float64\nYears in current job         100000 non-null float64\nHome Ownership               100000 non-null float64\nPurpose                      100000 non-null float64\nMonthly Debt                 100000 non-null float64\nYears of Credit History      100000 non-null float64\nNumber of Open Accounts      100000 non-null float64\nNumber of Credit Problems    100000 non-null float64\nCurrent Credit Balance       100000 non-null float64\nMaximum Open Credit          100000 non-null object\nBankruptcies                 100000 non-null float64\nTax Liens                    100000 non-null float64\ndtypes: float64(15), int64(1), object(1)\nmemory usage: 16.2+ MB\n",
     "name": "stdout"
    }
   ]
  },
  {
   "metadata": {},
   "cell_type": "markdown",
   "source": "## For test set"
  },
  {
   "metadata": {},
   "cell_type": "markdown",
   "source": "### Loading test set"
  },
  {
   "metadata": {},
   "cell_type": "code",
   "source": "\nbody = client_d796a7821cb14d9da275345dd74c86d6.get_object(Bucket='ibmcapstone-donotdelete-pr-dg5vjwlnynkxzq',Key='credit_test.csv')['Body']\n# add missing __iter__ method, so pandas accepts body as file-like object\nif not hasattr(body, \"__iter__\"): body.__iter__ = types.MethodType( __iter__, body )\n\ndf_test = pd.read_csv(body)\ndf_test.head()\n",
   "execution_count": 59,
   "outputs": [
    {
     "output_type": "execute_result",
     "execution_count": 59,
     "data": {
      "text/plain": "                                Loan ID                           Customer ID  \\\n0  f738779f-c726-40dc-92cf-689d73af533d  ded0b3c3-6bf4-4091-8726-47039f2c1b90   \n1  6dcc0947-164d-476c-a1de-3ae7283dde0a  1630e6e3-34e3-461a-8fda-09297d3140c8   \n2  f7744d01-894b-49c3-8777-fc6431a2cff1  2c60938b-ad2b-4702-804d-eeca43949c52   \n3  83721ffb-b99a-4a0f-aea5-ef472a138b41  12116614-2f3c-4d16-ad34-d92883718806   \n4  08f3789f-5714-4b10-929d-e1527ab5e5a3  39888105-fd5f-4023-860a-30a3e6f5ccb7   \n\n   Current Loan Amount        Term  Credit Score  Annual Income  \\\n0             611314.0  Short Term         747.0      2074116.0   \n1             266662.0  Short Term         734.0      1919190.0   \n2             153494.0  Short Term         709.0       871112.0   \n3             176242.0  Short Term         727.0       780083.0   \n4             321992.0  Short Term         744.0      1761148.0   \n\n  Years in current job Home Ownership             Purpose  Monthly Debt  \\\n0            10+ years  Home Mortgage  Debt Consolidation      42000.83   \n1            10+ years  Home Mortgage  Debt Consolidation      36624.40   \n2              2 years           Rent  Debt Consolidation       8391.73   \n3            10+ years           Rent  Debt Consolidation      16771.87   \n4            10+ years  Home Mortgage  Debt Consolidation      39478.77   \n\n   Years of Credit History  Months since last delinquent  \\\n0                     21.8                           NaN   \n1                     19.4                           NaN   \n2                     12.5                          10.0   \n3                     16.5                          27.0   \n4                     26.0                          44.0   \n\n   Number of Open Accounts  Number of Credit Problems  Current Credit Balance  \\\n0                      9.0                        0.0                621908.0   \n1                     11.0                        0.0                679573.0   \n2                     10.0                        0.0                 38532.0   \n3                     16.0                        1.0                156940.0   \n4                     14.0                        0.0                359765.0   \n\n   Maximum Open Credit  Bankruptcies  Tax Liens  \n0            1058970.0           0.0        0.0  \n1             904442.0           0.0        0.0  \n2             388036.0           0.0        0.0  \n3             531322.0           1.0        0.0  \n4             468072.0           0.0        0.0  ",
      "text/html": "<div>\n<style scoped>\n    .dataframe tbody tr th:only-of-type {\n        vertical-align: middle;\n    }\n\n    .dataframe tbody tr th {\n        vertical-align: top;\n    }\n\n    .dataframe thead th {\n        text-align: right;\n    }\n</style>\n<table border=\"1\" class=\"dataframe\">\n  <thead>\n    <tr style=\"text-align: right;\">\n      <th></th>\n      <th>Loan ID</th>\n      <th>Customer ID</th>\n      <th>Current Loan Amount</th>\n      <th>Term</th>\n      <th>Credit Score</th>\n      <th>Annual Income</th>\n      <th>Years in current job</th>\n      <th>Home Ownership</th>\n      <th>Purpose</th>\n      <th>Monthly Debt</th>\n      <th>Years of Credit History</th>\n      <th>Months since last delinquent</th>\n      <th>Number of Open Accounts</th>\n      <th>Number of Credit Problems</th>\n      <th>Current Credit Balance</th>\n      <th>Maximum Open Credit</th>\n      <th>Bankruptcies</th>\n      <th>Tax Liens</th>\n    </tr>\n  </thead>\n  <tbody>\n    <tr>\n      <th>0</th>\n      <td>f738779f-c726-40dc-92cf-689d73af533d</td>\n      <td>ded0b3c3-6bf4-4091-8726-47039f2c1b90</td>\n      <td>611314.0</td>\n      <td>Short Term</td>\n      <td>747.0</td>\n      <td>2074116.0</td>\n      <td>10+ years</td>\n      <td>Home Mortgage</td>\n      <td>Debt Consolidation</td>\n      <td>42000.83</td>\n      <td>21.8</td>\n      <td>NaN</td>\n      <td>9.0</td>\n      <td>0.0</td>\n      <td>621908.0</td>\n      <td>1058970.0</td>\n      <td>0.0</td>\n      <td>0.0</td>\n    </tr>\n    <tr>\n      <th>1</th>\n      <td>6dcc0947-164d-476c-a1de-3ae7283dde0a</td>\n      <td>1630e6e3-34e3-461a-8fda-09297d3140c8</td>\n      <td>266662.0</td>\n      <td>Short Term</td>\n      <td>734.0</td>\n      <td>1919190.0</td>\n      <td>10+ years</td>\n      <td>Home Mortgage</td>\n      <td>Debt Consolidation</td>\n      <td>36624.40</td>\n      <td>19.4</td>\n      <td>NaN</td>\n      <td>11.0</td>\n      <td>0.0</td>\n      <td>679573.0</td>\n      <td>904442.0</td>\n      <td>0.0</td>\n      <td>0.0</td>\n    </tr>\n    <tr>\n      <th>2</th>\n      <td>f7744d01-894b-49c3-8777-fc6431a2cff1</td>\n      <td>2c60938b-ad2b-4702-804d-eeca43949c52</td>\n      <td>153494.0</td>\n      <td>Short Term</td>\n      <td>709.0</td>\n      <td>871112.0</td>\n      <td>2 years</td>\n      <td>Rent</td>\n      <td>Debt Consolidation</td>\n      <td>8391.73</td>\n      <td>12.5</td>\n      <td>10.0</td>\n      <td>10.0</td>\n      <td>0.0</td>\n      <td>38532.0</td>\n      <td>388036.0</td>\n      <td>0.0</td>\n      <td>0.0</td>\n    </tr>\n    <tr>\n      <th>3</th>\n      <td>83721ffb-b99a-4a0f-aea5-ef472a138b41</td>\n      <td>12116614-2f3c-4d16-ad34-d92883718806</td>\n      <td>176242.0</td>\n      <td>Short Term</td>\n      <td>727.0</td>\n      <td>780083.0</td>\n      <td>10+ years</td>\n      <td>Rent</td>\n      <td>Debt Consolidation</td>\n      <td>16771.87</td>\n      <td>16.5</td>\n      <td>27.0</td>\n      <td>16.0</td>\n      <td>1.0</td>\n      <td>156940.0</td>\n      <td>531322.0</td>\n      <td>1.0</td>\n      <td>0.0</td>\n    </tr>\n    <tr>\n      <th>4</th>\n      <td>08f3789f-5714-4b10-929d-e1527ab5e5a3</td>\n      <td>39888105-fd5f-4023-860a-30a3e6f5ccb7</td>\n      <td>321992.0</td>\n      <td>Short Term</td>\n      <td>744.0</td>\n      <td>1761148.0</td>\n      <td>10+ years</td>\n      <td>Home Mortgage</td>\n      <td>Debt Consolidation</td>\n      <td>39478.77</td>\n      <td>26.0</td>\n      <td>44.0</td>\n      <td>14.0</td>\n      <td>0.0</td>\n      <td>359765.0</td>\n      <td>468072.0</td>\n      <td>0.0</td>\n      <td>0.0</td>\n    </tr>\n  </tbody>\n</table>\n</div>"
     },
     "metadata": {}
    }
   ]
  },
  {
   "metadata": {},
   "cell_type": "code",
   "source": "df_test.columns",
   "execution_count": 60,
   "outputs": [
    {
     "output_type": "execute_result",
     "execution_count": 60,
     "data": {
      "text/plain": "Index(['Loan ID', 'Customer ID', 'Current Loan Amount', 'Term', 'Credit Score',\n       'Annual Income', 'Years in current job', 'Home Ownership', 'Purpose',\n       'Monthly Debt', 'Years of Credit History',\n       'Months since last delinquent', 'Number of Open Accounts',\n       'Number of Credit Problems', 'Current Credit Balance',\n       'Maximum Open Credit', 'Bankruptcies', 'Tax Liens'],\n      dtype='object')"
     },
     "metadata": {}
    }
   ]
  },
  {
   "metadata": {},
   "cell_type": "code",
   "source": "df_test['Term'].value_counts()",
   "execution_count": 61,
   "outputs": [
    {
     "output_type": "execute_result",
     "execution_count": 61,
     "data": {
      "text/plain": "Short Term    7295\nLong Term     2705\nName: Term, dtype: int64"
     },
     "metadata": {}
    }
   ]
  },
  {
   "metadata": {},
   "cell_type": "code",
   "source": "df_test['Term'] = df_test['Term'].map({'Short Term': int('0'), 'Long Term': int('1')})",
   "execution_count": 62,
   "outputs": []
  },
  {
   "metadata": {},
   "cell_type": "code",
   "source": "df_test['Term'].value_counts()",
   "execution_count": 63,
   "outputs": [
    {
     "output_type": "execute_result",
     "execution_count": 63,
     "data": {
      "text/plain": "0.0    7295\n1.0    2705\nName: Term, dtype: int64"
     },
     "metadata": {}
    }
   ]
  },
  {
   "metadata": {},
   "cell_type": "code",
   "source": "df_test['Years in current job'] = df_test['Years in current job'].map({'10+ years': int('0'), '2 years': int('1'), '3 years': int('2'), '< 1 year': int('3'), '5 years': int('4'), '1 year': int('5'), '4 year': int('6'), '6 year': int('7'), '7 year': int('8'), '8 year': int('9'), '9 year': int('10')})",
   "execution_count": 64,
   "outputs": []
  },
  {
   "metadata": {},
   "cell_type": "code",
   "source": "df_test['Years in current job'].value_counts()",
   "execution_count": 65,
   "outputs": [
    {
     "output_type": "execute_result",
     "execution_count": 65,
     "data": {
      "text/plain": "0.0    3085\n1.0     916\n2.0     866\n3.0     795\n4.0     696\n5.0     648\nName: Years in current job, dtype: int64"
     },
     "metadata": {}
    }
   ]
  },
  {
   "metadata": {},
   "cell_type": "code",
   "source": "df_test['Home Ownership'].value_counts()",
   "execution_count": 66,
   "outputs": [
    {
     "output_type": "execute_result",
     "execution_count": 66,
     "data": {
      "text/plain": "Home Mortgage    4867\nRent             4203\nOwn Home          914\nHaveMortgage       16\nName: Home Ownership, dtype: int64"
     },
     "metadata": {}
    }
   ]
  },
  {
   "metadata": {},
   "cell_type": "code",
   "source": "df_test['Home Ownership'] = df_test['Home Ownership'].map({'Home Ownership': int('0'), 'Rent': int('1'), 'Own Home': int('2'), 'HaveMortgage': int('3')})\n\ndf_test['Home Ownership'].value_counts()",
   "execution_count": 67,
   "outputs": [
    {
     "output_type": "execute_result",
     "execution_count": 67,
     "data": {
      "text/plain": "1.0    4203\n2.0     914\n3.0      16\nName: Home Ownership, dtype: int64"
     },
     "metadata": {}
    }
   ]
  },
  {
   "metadata": {},
   "cell_type": "code",
   "source": "df_test['Purpose'].value_counts()",
   "execution_count": 68,
   "outputs": [
    {
     "output_type": "execute_result",
     "execution_count": 68,
     "data": {
      "text/plain": "Debt Consolidation      7878\nHome Improvements        593\nother                    561\nOther                    308\nBusiness Loan            163\nBuy a Car                142\nMedical Bills            113\nBuy House                 70\nmajor_purchase            52\nTake a Trip               44\nsmall_business            31\nmoving                    14\nEducational Expenses      14\nwedding                   10\nvacation                   6\nrenewable_energy           1\nName: Purpose, dtype: int64"
     },
     "metadata": {}
    }
   ]
  },
  {
   "metadata": {},
   "cell_type": "code",
   "source": "df_test['Purpose'] = df_test['Purpose'].map({'Dept Consolidation': int('0'), 'other': int('1'), 'Home Improvements': int('2'), 'Other': int('1'), 'Business Loan': int('2'), 'Buy a Car': int('3'), 'Medical bill': int('4'), 'Buy House': int('5'), 'Take a trip': int('6'), 'major_purchase': int('7'), 'small_business': int('8'), 'moving': int('9'), 'wedding': int('10'), 'vacation': int('11'), 'Educational_Expenses': int('12'), 'renewable_energy': int('13')})\n\ndf_test['Purpose'].value_counts()",
   "execution_count": 69,
   "outputs": [
    {
     "output_type": "execute_result",
     "execution_count": 69,
     "data": {
      "text/plain": "1.0     869\n2.0     756\n3.0     142\n5.0      70\n7.0      52\n8.0      31\n9.0      14\n10.0     10\n11.0      6\n13.0      1\nName: Purpose, dtype: int64"
     },
     "metadata": {}
    }
   ]
  },
  {
   "metadata": {},
   "cell_type": "code",
   "source": "del(df_test['Loan ID'])\ndel(df_test['Customer ID'])",
   "execution_count": 70,
   "outputs": []
  },
  {
   "metadata": {},
   "cell_type": "code",
   "source": "df_test.info()",
   "execution_count": 71,
   "outputs": [
    {
     "output_type": "stream",
     "text": "<class 'pandas.core.frame.DataFrame'>\nRangeIndex: 10353 entries, 0 to 10352\nData columns (total 16 columns):\nCurrent Loan Amount             10000 non-null float64\nTerm                            10000 non-null float64\nCredit Score                    8019 non-null float64\nAnnual Income                   8019 non-null float64\nYears in current job            7006 non-null float64\nHome Ownership                  5133 non-null float64\nPurpose                         1951 non-null float64\nMonthly Debt                    10000 non-null float64\nYears of Credit History         10000 non-null float64\nMonths since last delinquent    4694 non-null float64\nNumber of Open Accounts         10000 non-null float64\nNumber of Credit Problems       10000 non-null float64\nCurrent Credit Balance          10000 non-null float64\nMaximum Open Credit             10000 non-null float64\nBankruptcies                    9978 non-null float64\nTax Liens                       9999 non-null float64\ndtypes: float64(16)\nmemory usage: 1.3 MB\n",
     "name": "stdout"
    }
   ]
  },
  {
   "metadata": {},
   "cell_type": "code",
   "source": "df_test.shape",
   "execution_count": 72,
   "outputs": [
    {
     "output_type": "execute_result",
     "execution_count": 72,
     "data": {
      "text/plain": "(10353, 16)"
     },
     "metadata": {}
    }
   ]
  },
  {
   "metadata": {},
   "cell_type": "code",
   "source": "del(df_test['Months since last delinquent'])\ndf_test_na = df_test.dropna()\n\ndf_test_na.info()",
   "execution_count": 73,
   "outputs": [
    {
     "output_type": "stream",
     "text": "<class 'pandas.core.frame.DataFrame'>\nInt64Index: 548 entries, 17 to 9980\nData columns (total 15 columns):\nCurrent Loan Amount          548 non-null float64\nTerm                         548 non-null float64\nCredit Score                 548 non-null float64\nAnnual Income                548 non-null float64\nYears in current job         548 non-null float64\nHome Ownership               548 non-null float64\nPurpose                      548 non-null float64\nMonthly Debt                 548 non-null float64\nYears of Credit History      548 non-null float64\nNumber of Open Accounts      548 non-null float64\nNumber of Credit Problems    548 non-null float64\nCurrent Credit Balance       548 non-null float64\nMaximum Open Credit          548 non-null float64\nBankruptcies                 548 non-null float64\nTax Liens                    548 non-null float64\ndtypes: float64(15)\nmemory usage: 68.5 KB\n",
     "name": "stdout"
    }
   ]
  },
  {
   "metadata": {},
   "cell_type": "code",
   "source": "df_test_na.shape",
   "execution_count": 74,
   "outputs": [
    {
     "output_type": "execute_result",
     "execution_count": 74,
     "data": {
      "text/plain": "(548, 15)"
     },
     "metadata": {}
    }
   ]
  },
  {
   "metadata": {},
   "cell_type": "code",
   "source": "corr = df_test_na.corr()",
   "execution_count": 75,
   "outputs": []
  },
  {
   "metadata": {},
   "cell_type": "code",
   "source": "corr",
   "execution_count": 76,
   "outputs": [
    {
     "output_type": "execute_result",
     "execution_count": 76,
     "data": {
      "text/plain": "                           Current Loan Amount      Term  Credit Score  \\\nCurrent Loan Amount                   1.000000  0.023418     -0.098984   \nTerm                                  0.023418  1.000000      0.081124   \nCredit Score                         -0.098984  0.081124      1.000000   \nAnnual Income                         0.025957  0.078387     -0.044992   \nYears in current job                  0.022115 -0.096820      0.045331   \nHome Ownership                       -0.029904  0.074317      0.029265   \nPurpose                               0.062403  0.042947      0.005389   \nMonthly Debt                         -0.020306  0.156192     -0.019394   \nYears of Credit History               0.081005  0.093470      0.000869   \nNumber of Open Accounts               0.063728  0.049515     -0.030375   \nNumber of Credit Problems            -0.044229  0.037025     -0.003704   \nCurrent Credit Balance               -0.021887  0.122225     -0.015556   \nMaximum Open Credit                  -0.014887  0.141295     -0.028025   \nBankruptcies                         -0.024927 -0.016422      0.034921   \nTax Liens                            -0.044971  0.015254     -0.029809   \n\n                           Annual Income  Years in current job  \\\nCurrent Loan Amount             0.025957              0.022115   \nTerm                            0.078387             -0.096820   \nCredit Score                   -0.044992              0.045331   \nAnnual Income                   1.000000             -0.107454   \nYears in current job           -0.107454              1.000000   \nHome Ownership                  0.078313             -0.099305   \nPurpose                         0.030624             -0.018411   \nMonthly Debt                    0.542157             -0.085781   \nYears of Credit History         0.159591             -0.160091   \nNumber of Open Accounts         0.179875             -0.025871   \nNumber of Credit Problems       0.045362             -0.002691   \nCurrent Credit Balance          0.213715             -0.065362   \nMaximum Open Credit             0.207798             -0.062739   \nBankruptcies                    0.019960             -0.064005   \nTax Liens                       0.017590              0.017323   \n\n                           Home Ownership   Purpose  Monthly Debt  \\\nCurrent Loan Amount             -0.029904  0.062403     -0.020306   \nTerm                             0.074317  0.042947      0.156192   \nCredit Score                     0.029265  0.005389     -0.019394   \nAnnual Income                    0.078313  0.030624      0.542157   \nYears in current job            -0.099305 -0.018411     -0.085781   \nHome Ownership                   1.000000 -0.028035      0.135548   \nPurpose                         -0.028035  1.000000     -0.008392   \nMonthly Debt                     0.135548 -0.008392      1.000000   \nYears of Credit History          0.177032 -0.064941      0.171611   \nNumber of Open Accounts          0.085225 -0.016776      0.384698   \nNumber of Credit Problems        0.032587  0.107265      0.115196   \nCurrent Credit Balance           0.106445 -0.026234      0.384031   \nMaximum Open Credit              0.168110  0.005420      0.275387   \nBankruptcies                     0.002617  0.006317      0.029726   \nTax Liens                        0.024197  0.067141      0.134347   \n\n                           Years of Credit History  Number of Open Accounts  \\\nCurrent Loan Amount                       0.081005                 0.063728   \nTerm                                      0.093470                 0.049515   \nCredit Score                              0.000869                -0.030375   \nAnnual Income                             0.159591                 0.179875   \nYears in current job                     -0.160091                -0.025871   \nHome Ownership                            0.177032                 0.085225   \nPurpose                                  -0.064941                -0.016776   \nMonthly Debt                              0.171611                 0.384698   \nYears of Credit History                   1.000000                 0.168356   \nNumber of Open Accounts                   0.168356                 1.000000   \nNumber of Credit Problems                 0.112862                 0.094964   \nCurrent Credit Balance                    0.083754                 0.040177   \nMaximum Open Credit                       0.110727                 0.040477   \nBankruptcies                              0.097298                 0.076340   \nTax Liens                                 0.063155                 0.058678   \n\n                           Number of Credit Problems  Current Credit Balance  \\\nCurrent Loan Amount                        -0.044229               -0.021887   \nTerm                                        0.037025                0.122225   \nCredit Score                               -0.003704               -0.015556   \nAnnual Income                               0.045362                0.213715   \nYears in current job                       -0.002691               -0.065362   \nHome Ownership                              0.032587                0.106445   \nPurpose                                     0.107265               -0.026234   \nMonthly Debt                                0.115196                0.384031   \nYears of Credit History                     0.112862                0.083754   \nNumber of Open Accounts                     0.094964                0.040177   \nNumber of Credit Problems                   1.000000               -0.012139   \nCurrent Credit Balance                     -0.012139                1.000000   \nMaximum Open Credit                        -0.026954                0.811380   \nBankruptcies                                0.746122               -0.033524   \nTax Liens                                   0.619744                0.031078   \n\n                           Maximum Open Credit  Bankruptcies  Tax Liens  \nCurrent Loan Amount                  -0.014887     -0.024927  -0.044971  \nTerm                                  0.141295     -0.016422   0.015254  \nCredit Score                         -0.028025      0.034921  -0.029809  \nAnnual Income                         0.207798      0.019960   0.017590  \nYears in current job                 -0.062739     -0.064005   0.017323  \nHome Ownership                        0.168110      0.002617   0.024197  \nPurpose                               0.005420      0.006317   0.067141  \nMonthly Debt                          0.275387      0.029726   0.134347  \nYears of Credit History               0.110727      0.097298   0.063155  \nNumber of Open Accounts               0.040477      0.076340   0.058678  \nNumber of Credit Problems            -0.026954      0.746122   0.619744  \nCurrent Credit Balance                0.811380     -0.033524   0.031078  \nMaximum Open Credit                   1.000000     -0.037681   0.010193  \nBankruptcies                         -0.037681      1.000000   0.214948  \nTax Liens                             0.010193      0.214948   1.000000  ",
      "text/html": "<div>\n<style scoped>\n    .dataframe tbody tr th:only-of-type {\n        vertical-align: middle;\n    }\n\n    .dataframe tbody tr th {\n        vertical-align: top;\n    }\n\n    .dataframe thead th {\n        text-align: right;\n    }\n</style>\n<table border=\"1\" class=\"dataframe\">\n  <thead>\n    <tr style=\"text-align: right;\">\n      <th></th>\n      <th>Current Loan Amount</th>\n      <th>Term</th>\n      <th>Credit Score</th>\n      <th>Annual Income</th>\n      <th>Years in current job</th>\n      <th>Home Ownership</th>\n      <th>Purpose</th>\n      <th>Monthly Debt</th>\n      <th>Years of Credit History</th>\n      <th>Number of Open Accounts</th>\n      <th>Number of Credit Problems</th>\n      <th>Current Credit Balance</th>\n      <th>Maximum Open Credit</th>\n      <th>Bankruptcies</th>\n      <th>Tax Liens</th>\n    </tr>\n  </thead>\n  <tbody>\n    <tr>\n      <th>Current Loan Amount</th>\n      <td>1.000000</td>\n      <td>0.023418</td>\n      <td>-0.098984</td>\n      <td>0.025957</td>\n      <td>0.022115</td>\n      <td>-0.029904</td>\n      <td>0.062403</td>\n      <td>-0.020306</td>\n      <td>0.081005</td>\n      <td>0.063728</td>\n      <td>-0.044229</td>\n      <td>-0.021887</td>\n      <td>-0.014887</td>\n      <td>-0.024927</td>\n      <td>-0.044971</td>\n    </tr>\n    <tr>\n      <th>Term</th>\n      <td>0.023418</td>\n      <td>1.000000</td>\n      <td>0.081124</td>\n      <td>0.078387</td>\n      <td>-0.096820</td>\n      <td>0.074317</td>\n      <td>0.042947</td>\n      <td>0.156192</td>\n      <td>0.093470</td>\n      <td>0.049515</td>\n      <td>0.037025</td>\n      <td>0.122225</td>\n      <td>0.141295</td>\n      <td>-0.016422</td>\n      <td>0.015254</td>\n    </tr>\n    <tr>\n      <th>Credit Score</th>\n      <td>-0.098984</td>\n      <td>0.081124</td>\n      <td>1.000000</td>\n      <td>-0.044992</td>\n      <td>0.045331</td>\n      <td>0.029265</td>\n      <td>0.005389</td>\n      <td>-0.019394</td>\n      <td>0.000869</td>\n      <td>-0.030375</td>\n      <td>-0.003704</td>\n      <td>-0.015556</td>\n      <td>-0.028025</td>\n      <td>0.034921</td>\n      <td>-0.029809</td>\n    </tr>\n    <tr>\n      <th>Annual Income</th>\n      <td>0.025957</td>\n      <td>0.078387</td>\n      <td>-0.044992</td>\n      <td>1.000000</td>\n      <td>-0.107454</td>\n      <td>0.078313</td>\n      <td>0.030624</td>\n      <td>0.542157</td>\n      <td>0.159591</td>\n      <td>0.179875</td>\n      <td>0.045362</td>\n      <td>0.213715</td>\n      <td>0.207798</td>\n      <td>0.019960</td>\n      <td>0.017590</td>\n    </tr>\n    <tr>\n      <th>Years in current job</th>\n      <td>0.022115</td>\n      <td>-0.096820</td>\n      <td>0.045331</td>\n      <td>-0.107454</td>\n      <td>1.000000</td>\n      <td>-0.099305</td>\n      <td>-0.018411</td>\n      <td>-0.085781</td>\n      <td>-0.160091</td>\n      <td>-0.025871</td>\n      <td>-0.002691</td>\n      <td>-0.065362</td>\n      <td>-0.062739</td>\n      <td>-0.064005</td>\n      <td>0.017323</td>\n    </tr>\n    <tr>\n      <th>Home Ownership</th>\n      <td>-0.029904</td>\n      <td>0.074317</td>\n      <td>0.029265</td>\n      <td>0.078313</td>\n      <td>-0.099305</td>\n      <td>1.000000</td>\n      <td>-0.028035</td>\n      <td>0.135548</td>\n      <td>0.177032</td>\n      <td>0.085225</td>\n      <td>0.032587</td>\n      <td>0.106445</td>\n      <td>0.168110</td>\n      <td>0.002617</td>\n      <td>0.024197</td>\n    </tr>\n    <tr>\n      <th>Purpose</th>\n      <td>0.062403</td>\n      <td>0.042947</td>\n      <td>0.005389</td>\n      <td>0.030624</td>\n      <td>-0.018411</td>\n      <td>-0.028035</td>\n      <td>1.000000</td>\n      <td>-0.008392</td>\n      <td>-0.064941</td>\n      <td>-0.016776</td>\n      <td>0.107265</td>\n      <td>-0.026234</td>\n      <td>0.005420</td>\n      <td>0.006317</td>\n      <td>0.067141</td>\n    </tr>\n    <tr>\n      <th>Monthly Debt</th>\n      <td>-0.020306</td>\n      <td>0.156192</td>\n      <td>-0.019394</td>\n      <td>0.542157</td>\n      <td>-0.085781</td>\n      <td>0.135548</td>\n      <td>-0.008392</td>\n      <td>1.000000</td>\n      <td>0.171611</td>\n      <td>0.384698</td>\n      <td>0.115196</td>\n      <td>0.384031</td>\n      <td>0.275387</td>\n      <td>0.029726</td>\n      <td>0.134347</td>\n    </tr>\n    <tr>\n      <th>Years of Credit History</th>\n      <td>0.081005</td>\n      <td>0.093470</td>\n      <td>0.000869</td>\n      <td>0.159591</td>\n      <td>-0.160091</td>\n      <td>0.177032</td>\n      <td>-0.064941</td>\n      <td>0.171611</td>\n      <td>1.000000</td>\n      <td>0.168356</td>\n      <td>0.112862</td>\n      <td>0.083754</td>\n      <td>0.110727</td>\n      <td>0.097298</td>\n      <td>0.063155</td>\n    </tr>\n    <tr>\n      <th>Number of Open Accounts</th>\n      <td>0.063728</td>\n      <td>0.049515</td>\n      <td>-0.030375</td>\n      <td>0.179875</td>\n      <td>-0.025871</td>\n      <td>0.085225</td>\n      <td>-0.016776</td>\n      <td>0.384698</td>\n      <td>0.168356</td>\n      <td>1.000000</td>\n      <td>0.094964</td>\n      <td>0.040177</td>\n      <td>0.040477</td>\n      <td>0.076340</td>\n      <td>0.058678</td>\n    </tr>\n    <tr>\n      <th>Number of Credit Problems</th>\n      <td>-0.044229</td>\n      <td>0.037025</td>\n      <td>-0.003704</td>\n      <td>0.045362</td>\n      <td>-0.002691</td>\n      <td>0.032587</td>\n      <td>0.107265</td>\n      <td>0.115196</td>\n      <td>0.112862</td>\n      <td>0.094964</td>\n      <td>1.000000</td>\n      <td>-0.012139</td>\n      <td>-0.026954</td>\n      <td>0.746122</td>\n      <td>0.619744</td>\n    </tr>\n    <tr>\n      <th>Current Credit Balance</th>\n      <td>-0.021887</td>\n      <td>0.122225</td>\n      <td>-0.015556</td>\n      <td>0.213715</td>\n      <td>-0.065362</td>\n      <td>0.106445</td>\n      <td>-0.026234</td>\n      <td>0.384031</td>\n      <td>0.083754</td>\n      <td>0.040177</td>\n      <td>-0.012139</td>\n      <td>1.000000</td>\n      <td>0.811380</td>\n      <td>-0.033524</td>\n      <td>0.031078</td>\n    </tr>\n    <tr>\n      <th>Maximum Open Credit</th>\n      <td>-0.014887</td>\n      <td>0.141295</td>\n      <td>-0.028025</td>\n      <td>0.207798</td>\n      <td>-0.062739</td>\n      <td>0.168110</td>\n      <td>0.005420</td>\n      <td>0.275387</td>\n      <td>0.110727</td>\n      <td>0.040477</td>\n      <td>-0.026954</td>\n      <td>0.811380</td>\n      <td>1.000000</td>\n      <td>-0.037681</td>\n      <td>0.010193</td>\n    </tr>\n    <tr>\n      <th>Bankruptcies</th>\n      <td>-0.024927</td>\n      <td>-0.016422</td>\n      <td>0.034921</td>\n      <td>0.019960</td>\n      <td>-0.064005</td>\n      <td>0.002617</td>\n      <td>0.006317</td>\n      <td>0.029726</td>\n      <td>0.097298</td>\n      <td>0.076340</td>\n      <td>0.746122</td>\n      <td>-0.033524</td>\n      <td>-0.037681</td>\n      <td>1.000000</td>\n      <td>0.214948</td>\n    </tr>\n    <tr>\n      <th>Tax Liens</th>\n      <td>-0.044971</td>\n      <td>0.015254</td>\n      <td>-0.029809</td>\n      <td>0.017590</td>\n      <td>0.017323</td>\n      <td>0.024197</td>\n      <td>0.067141</td>\n      <td>0.134347</td>\n      <td>0.063155</td>\n      <td>0.058678</td>\n      <td>0.619744</td>\n      <td>0.031078</td>\n      <td>0.010193</td>\n      <td>0.214948</td>\n      <td>1.000000</td>\n    </tr>\n  </tbody>\n</table>\n</div>"
     },
     "metadata": {}
    }
   ]
  },
  {
   "metadata": {},
   "cell_type": "code",
   "source": "sns.heatmap(corr)",
   "execution_count": 77,
   "outputs": [
    {
     "output_type": "execute_result",
     "execution_count": 77,
     "data": {
      "text/plain": "<matplotlib.axes._subplots.AxesSubplot at 0x7f61f44cfc88>"
     },
     "metadata": {}
    },
    {
     "output_type": "display_data",
     "data": {
      "text/plain": "<Figure size 432x288 with 2 Axes>",
      "image/png": "[encoded data removed]"
     },
     "metadata": {
      "needs_background": "light"
     }
    }
   ]
  },
  {
   "metadata": {},
   "cell_type": "code",
   "source": "corr['Credit Score'][abs(corr['Credit Score']) > 0.1]",
   "execution_count": 78,
   "outputs": [
    {
     "output_type": "execute_result",
     "execution_count": 78,
     "data": {
      "text/plain": "Credit Score    1.0\nName: Credit Score, dtype: float64"
     },
     "metadata": {}
    }
   ]
  },
  {
   "metadata": {},
   "cell_type": "code",
   "source": "corr['Annual Income'][abs(corr['Annual Income']) > 0.1]",
   "execution_count": 79,
   "outputs": [
    {
     "output_type": "execute_result",
     "execution_count": 79,
     "data": {
      "text/plain": "Annual Income              1.000000\nYears in current job      -0.107454\nMonthly Debt               0.542157\nYears of Credit History    0.159591\nNumber of Open Accounts    0.179875\nCurrent Credit Balance     0.213715\nMaximum Open Credit        0.207798\nName: Annual Income, dtype: float64"
     },
     "metadata": {}
    }
   ]
  },
  {
   "metadata": {},
   "cell_type": "code",
   "source": "corr['Years in current job'][abs(corr['Years in current job']) > 0.1]",
   "execution_count": 80,
   "outputs": [
    {
     "output_type": "execute_result",
     "execution_count": 80,
     "data": {
      "text/plain": "Annual Income             -0.107454\nYears in current job       1.000000\nYears of Credit History   -0.160091\nName: Years in current job, dtype: float64"
     },
     "metadata": {}
    }
   ]
  },
  {
   "metadata": {},
   "cell_type": "code",
   "source": "corr['Maximum Open Credit'][abs(corr['Maximum Open Credit']) > 0.1]",
   "execution_count": 81,
   "outputs": [
    {
     "output_type": "execute_result",
     "execution_count": 81,
     "data": {
      "text/plain": "Term                       0.141295\nAnnual Income              0.207798\nHome Ownership             0.168110\nMonthly Debt               0.275387\nYears of Credit History    0.110727\nCurrent Credit Balance     0.811380\nMaximum Open Credit        1.000000\nName: Maximum Open Credit, dtype: float64"
     },
     "metadata": {}
    }
   ]
  },
  {
   "metadata": {},
   "cell_type": "code",
   "source": "corr['Bankruptcies'][abs(corr['Bankruptcies']) > 0.1]",
   "execution_count": 82,
   "outputs": [
    {
     "output_type": "execute_result",
     "execution_count": 82,
     "data": {
      "text/plain": "Number of Credit Problems    0.746122\nBankruptcies                 1.000000\nTax Liens                    0.214948\nName: Bankruptcies, dtype: float64"
     },
     "metadata": {}
    }
   ]
  },
  {
   "metadata": {},
   "cell_type": "code",
   "source": "corr['Tax Liens'][abs(corr['Tax Liens']) > 0.1]",
   "execution_count": 83,
   "outputs": [
    {
     "output_type": "execute_result",
     "execution_count": 83,
     "data": {
      "text/plain": "Monthly Debt                 0.134347\nNumber of Credit Problems    0.619744\nBankruptcies                 0.214948\nTax Liens                    1.000000\nName: Tax Liens, dtype: float64"
     },
     "metadata": {}
    }
   ]
  },
  {
   "metadata": {},
   "cell_type": "markdown",
   "source": "**Filling missing values with mean and median method**"
  },
  {
   "metadata": {},
   "cell_type": "code",
   "source": "df_test_na[\"Credit Score\"].mean()",
   "execution_count": 84,
   "outputs": [
    {
     "output_type": "execute_result",
     "execution_count": 84,
     "data": {
      "text/plain": "1096.9799270072992"
     },
     "metadata": {}
    }
   ]
  },
  {
   "metadata": {},
   "cell_type": "code",
   "source": "df_test['Credit Score'] = df_test['Credit Score'].fillna(df_test_na[\"Credit Score\"].mean())",
   "execution_count": 85,
   "outputs": []
  },
  {
   "metadata": {},
   "cell_type": "code",
   "source": "df_test['Home Ownership'] = df_test.fillna(df_test_na['Home Ownership'].mode().iloc[0])",
   "execution_count": 86,
   "outputs": []
  },
  {
   "metadata": {},
   "cell_type": "code",
   "source": "df_test['Term'].fillna(value=int('0'), inplace=True)",
   "execution_count": 87,
   "outputs": []
  },
  {
   "metadata": {},
   "cell_type": "code",
   "source": "df_test['Purpose'].fillna(value= int('0'), inplace=True)",
   "execution_count": 88,
   "outputs": []
  },
  {
   "metadata": {},
   "cell_type": "code",
   "source": "df_test['Current Loan Amount'] = df_test.fillna(df_test_na['Current Loan Amount'].mode().iloc[0])\ndf_test['Annual Income'] = df_test['Annual Income'].fillna(df_test_na[\"Annual Income\"].mean())\ndf_test['Monthly Debt'] = df_test['Monthly Debt'].fillna(df_test_na[\"Monthly Debt\"].mean())\ndf_test['Maximum Open Credit'] = df_test['Maximum Open Credit'].fillna(df_test_na[\"Maximum Open Credit\"].mean())\ndf_test['Current Credit Balance'] = df_test['Current Credit Balance'].fillna(df_test_na[\"Current Credit Balance\"].mean())\ndf_test['Years of Credit History'] = df_test.fillna(df_test_na['Years of Credit History'].mode().iloc[0])\ndf_test['Number of Open Accounts'] = df_test.fillna(df_test_na['Number of Open Accounts'].mode().iloc[0])\ndf_test['Number of Credit Problems'] = df_test.fillna(df_test_na['Number of Credit Problems'].mode().iloc[0])\ndf_test['Bankruptcies'] = df_test.fillna(df_test_na['Bankruptcies'].mode().iloc[0])\ndf_test['Tax Liens'] = df_test.fillna(df_test_na['Tax Liens'].mode().iloc[0])",
   "execution_count": 89,
   "outputs": []
  },
  {
   "metadata": {},
   "cell_type": "code",
   "source": "df_test['Years in current job'] = df_test['Years in current job'].map({'10+ years': int('0'), '2 years': int('1'), '3 years': int('2'), '< 1 year': int('3'), '5 years': int('4'), '1 year': int('5'), '4 year': int('6'), '6 year': int('7'), '7 year': int('8'), '8 year': int('9'), '9 year': int('10')})",
   "execution_count": 90,
   "outputs": []
  },
  {
   "metadata": {},
   "cell_type": "code",
   "source": "y3 = df_test_na['Years in current job']\nx3 = df_test_na['Years of Credit History']\n\ny3 = y3.values.reshape(548,1)\nx3 = x3.values.reshape(548,1)\n\nlogReg3 = LogisticRegression()\n\nlogReg3.fit(x3,y3)\n\ndf_test['Years in current job'] = df_test.apply(lambda x: logReg3.predict(x['Years of Credit History'].reshape(1,1)[0:1])[0] if np.isnan(x['Years in current job']) else x['Years in current job'], axis = 1)\n\ndf_test['Years in current job'].shape",
   "execution_count": 91,
   "outputs": [
    {
     "output_type": "execute_result",
     "execution_count": 91,
     "data": {
      "text/plain": "(10353,)"
     },
     "metadata": {}
    }
   ]
  },
  {
   "metadata": {},
   "cell_type": "code",
   "source": "df_test.info()",
   "execution_count": 92,
   "outputs": [
    {
     "output_type": "stream",
     "text": "<class 'pandas.core.frame.DataFrame'>\nRangeIndex: 10353 entries, 0 to 10352\nData columns (total 15 columns):\nCurrent Loan Amount          10353 non-null float64\nTerm                         10353 non-null float64\nCredit Score                 10353 non-null float64\nAnnual Income                10353 non-null float64\nYears in current job         10353 non-null float64\nHome Ownership               10353 non-null float64\nPurpose                      10353 non-null float64\nMonthly Debt                 10353 non-null float64\nYears of Credit History      10353 non-null float64\nNumber of Open Accounts      10353 non-null float64\nNumber of Credit Problems    10353 non-null float64\nCurrent Credit Balance       10353 non-null float64\nMaximum Open Credit          10353 non-null float64\nBankruptcies                 10353 non-null float64\nTax Liens                    10353 non-null float64\ndtypes: float64(15)\nmemory usage: 1.2 MB\n",
     "name": "stdout"
    }
   ]
  },
  {
   "metadata": {},
   "cell_type": "code",
   "source": "# Convert DataFrame into array.\nx_train = df_train.drop(labels='Loan Status', axis=1).values\ny_train = df_train['Loan Status'].values\nx_test = df_test.values",
   "execution_count": 93,
   "outputs": []
  },
  {
   "metadata": {},
   "cell_type": "code",
   "source": "y_train.shape",
   "execution_count": 94,
   "outputs": [
    {
     "output_type": "execute_result",
     "execution_count": 94,
     "data": {
      "text/plain": "(100000,)"
     },
     "metadata": {}
    }
   ]
  },
  {
   "metadata": {},
   "cell_type": "markdown",
   "source": "## Scaling data sets"
  },
  {
   "metadata": {},
   "cell_type": "code",
   "source": "#Let us apply scaling on the dataset.\n\n\nsc_X=StandardScaler()\nx_train=sc_X.fit_transform(x_train)\nx_test = sc_X.fit_transform(x_test)",
   "execution_count": 95,
   "outputs": []
  },
  {
   "metadata": {},
   "cell_type": "markdown",
   "source": "## DIMENSIONALITY REDUCTION\nWe are doing this to reduce the number of dimensions/features in the dataset.\nThe features which have less effect on the prediction , we will remove those features.\nIt also boosts the process.\nIt saves time.\nHere we will use Principal Component Analysis (PCA) with 'rbf' kernel."
  },
  {
   "metadata": {},
   "cell_type": "markdown",
   "source": "### PCA"
  },
  {
   "metadata": {},
   "cell_type": "code",
   "source": "from sklearn.decomposition import PCA\npca = PCA(n_components=None)\nx_train = pca.fit_transform(x_train)\nx_test = pca.fit_transform(x_test)\nexplained_variance = pca.explained_variance_ratio_\nexplained_variance",
   "execution_count": 96,
   "outputs": [
    {
     "output_type": "execute_result",
     "execution_count": 96,
     "data": {
      "text/plain": "array([4.84796768e-001, 1.48352426e-001, 7.50158193e-002, 7.34647594e-002,\n       7.09847034e-002, 6.59371984e-002, 3.79635129e-002, 2.68092570e-002,\n       1.66755550e-002, 1.25165113e-031, 9.29439277e-034, 2.63442002e-038,\n       3.91285497e-040, 1.27411568e-142, 5.03502976e-159])"
     },
     "metadata": {}
    }
   ]
  },
  {
   "metadata": {},
   "cell_type": "code",
   "source": "pca = PCA(n_components=10)\nx_train = pca.fit_transform(x_train)\nx_test = pca.fit_transform(x_test)",
   "execution_count": 97,
   "outputs": []
  },
  {
   "metadata": {},
   "cell_type": "markdown",
   "source": "## APPLY LOGISTIC REGRESSION AND RANDOM FOREST MODEL AND CHECK ACCURACY FOR EACH MODEL AND SELECT THE BEST ONE.\n### 1). Apply Logistic Regression"
  },
  {
   "metadata": {},
   "cell_type": "code",
   "source": "# Apply Logistic regression\n    # First step is to train our model .\n\nclassifier_logi = LogisticRegression()\nclassifier_logi.fit(x_train,y_train)",
   "execution_count": 98,
   "outputs": [
    {
     "output_type": "execute_result",
     "execution_count": 98,
     "data": {
      "text/plain": "LogisticRegression(C=1.0, class_weight=None, dual=False, fit_intercept=True,\n          intercept_scaling=1, max_iter=100, multi_class='warn',\n          n_jobs=None, penalty='l2', random_state=None, solver='warn',\n          tol=0.0001, verbose=0, warm_start=False)"
     },
     "metadata": {}
    }
   ]
  },
  {
   "metadata": {},
   "cell_type": "code",
   "source": "# Let us check the accuracy of the model with k-cross validation.\naccuracy = cross_val_score(estimator=classifier_logi, X=x_train, y=y_train, cv=10)\nprint(f\"The accuracy of the Logistic Regressor Model is \\t {accuracy.mean()}\")\nprint(f\"The deviation in the accuracy is \\t {accuracy.std()}\")",
   "execution_count": 99,
   "outputs": [
    {
     "output_type": "stream",
     "text": "The accuracy of the Logistic Regressor Model is \t 0.8733299387448993\nThe deviation in the accuracy is \t 0.002746962231176958\n",
     "name": "stdout"
    }
   ]
  },
  {
   "metadata": {},
   "cell_type": "markdown",
   "source": "### 2). Apply Random Forest Model"
  },
  {
   "metadata": {},
   "cell_type": "code",
   "source": "# Train Model\nclassifier_ran = RandomForestClassifier()\nclassifier_ran.fit(x_train,y_train)\n\n# Check the accuracy and deviation in the accuracy\naccuracy = cross_val_score(estimator=classifier_ran, X=x_train, y=y_train, cv=10)\nprint(f\"The accuracy of the Random Forest Model is \\t {accuracy.mean()}\") \nprint(f\"The deviation in the accuracy is \\t {accuracy.std()}\")",
   "execution_count": 100,
   "outputs": [
    {
     "output_type": "stream",
     "text": "The accuracy of the Random Forest Model is \t 0.8616299346732994\nThe deviation in the accuracy is \t 0.012799244221756064\n",
     "name": "stdout"
    }
   ]
  },
  {
   "metadata": {},
   "cell_type": "markdown",
   "source": "## Here we will choose Logistic Regression model.\n\nIn Logistic Regression we are getting the accuracy of 87% .\nHere deviation in the accuracy is 2%, means if we predict on new values then our accuracy will lies in range of 85% to 87% .\nIt also indicates that the problem is Linear.\nBy this We can eliminate all other models."
  },
  {
   "metadata": {},
   "cell_type": "code",
   "source": "print(np.unique(y_train))\nprint(y_train[:10])\nprint(\"Here 0 indicates 'Fully Paid'. And 1 indicates 'Charged Off' \")",
   "execution_count": 101,
   "outputs": [
    {
     "output_type": "stream",
     "text": "[0. 1.]\n[0. 0. 0. 0. 0. 1. 0. 1. 0. 0.]\nHere 0 indicates 'Fully Paid'. And 1 indicates 'Charged Off' \n",
     "name": "stdout"
    }
   ]
  },
  {
   "metadata": {},
   "cell_type": "markdown",
   "source": "## Test Set Prediction"
  },
  {
   "metadata": {},
   "cell_type": "code",
   "source": "y_pred = classifier_logi.predict(x_test)\n\n# Let us convert 1 and 0 into Fully Paid and Charged off respectively\ny_pred = list(map(lambda x: 'Fully Paid' if x==0 else 'Charged Off' ,y_pred))\ny_pred = np.array(y_pred)\ny_pred[:5]",
   "execution_count": 102,
   "outputs": [
    {
     "output_type": "execute_result",
     "execution_count": 102,
     "data": {
      "text/plain": "array(['Charged Off', 'Charged Off', 'Fully Paid', 'Fully Paid',\n       'Charged Off'], dtype='<U11')"
     },
     "metadata": {}
    }
   ]
  }
 ],
 "metadata": {
  "kernelspec": {
   "name": "python3",
   "display_name": "Python 3.6",
   "language": "python"
  },
  "language_info": {
   "name": "python",
   "version": "3.6.9",
   "mimetype": "text/x-python",
   "codemirror_mode": {
    "name": "ipython",
    "version": 3
   },
   "pygments_lexer": "ipython3",
   "nbconvert_exporter": "python",
   "file_extension": ".py"
  },
  "pycharm": {
   "stem_cell": {
    "cell_type": "raw",
    "source": [],
    "metadata": {
     "collapsed": false
    }
   }
  }
 },
 "nbformat": 4,
 "nbformat_minor": 1
}